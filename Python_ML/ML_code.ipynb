{
 "cells": [
  {
   "cell_type": "code",
   "execution_count": 32,
   "metadata": {},
   "outputs": [],
   "source": [
    "import numpy as np\n",
    "import pandas as pd\n",
    "import sklearn\n",
    "from sklearn.preprocessing import OneHotEncoder\n",
    "from sklearn import datasets, linear_model\n",
    "from sklearn.metrics import mean_squared_error, r2_score\n"
   ]
  },
  {
   "cell_type": "code",
   "execution_count": 4,
   "metadata": {},
   "outputs": [],
   "source": [
    "# Linear Regression on Housing Prices Dataset "
   ]
  },
  {
   "cell_type": "code",
   "execution_count": 73,
   "metadata": {},
   "outputs": [],
   "source": [
    "df_train = pd.read_csv('train.csv')\n",
    "df_test = pd.read_csv('test.csv')\n",
    "\n",
    "# columns to omit\n",
    "df_train = df_train.drop(columns=['MiscFeature', 'PoolQC'])\n",
    "df_test = df_test.drop(columns=['MiscFeature', 'PoolQC'])\n",
    "\n",
    "SalePrice = df_train['SalePrice']\n",
    "\n",
    "# replacing nans with missing\n",
    "df_train[df_train.select_dtypes(include='object').columns] = df_train.select_dtypes(include='object').fillna(\"missing\")\n",
    "df_test[df_test.select_dtypes(include='object').columns] = df_test.select_dtypes(include='object').fillna(\"missing\")\n",
    "\n",
    "df_train['SalePrice'] <- np.log(df_train['SalePrice'])\n",
    "\n",
    "# replace missing int values with mean of column\n",
    "numeric_cols = df_train.select_dtypes(include='number').columns\n",
    "df_train[numeric_cols] = df_train[numeric_cols].fillna(df_train[numeric_cols].mean())\n",
    "\n",
    "numeric_cols = df_test.select_dtypes(include='number').columns\n",
    "df_test[numeric_cols] = df_test[numeric_cols].fillna(df_test[numeric_cols].mean())\n",
    "\n",
    "# one hot encode all variables (df_train)\n",
    "categorical_columns = df_train.select_dtypes(include=['object']).columns.tolist()\n",
    "encoder = OneHotEncoder(sparse_output=False)\n",
    "\n",
    "one_hot_encoded = encoder.fit_transform(df_train[categorical_columns])\n",
    "\n",
    "one_hot_df = pd.DataFrame(one_hot_encoded, columns=encoder.get_feature_names_out(categorical_columns))\n",
    "\n",
    "df_t = pd.concat([df_train, one_hot_df], axis=1)\n",
    "df_t = df_t.drop(categorical_columns, axis=1)\n",
    "\n",
    "# one hot encode all variables (df_test)\n",
    "\n",
    "categorical_columns = df_test.select_dtypes(include=['object']).columns.tolist()\n",
    "encoder = OneHotEncoder(sparse_output=False)\n",
    "\n",
    "one_hot_encoded = encoder.fit_transform(df_test[categorical_columns])\n",
    "\n",
    "one_hot_df = pd.DataFrame(one_hot_encoded, columns=encoder.get_feature_names_out(categorical_columns))\n",
    "\n",
    "df_te = pd.concat([df_test, one_hot_df], axis=1)\n",
    "df_te = df_te.drop(categorical_columns, axis=1)\n",
    "\n",
    "# select columns that only exist in both df_t and df_te\n",
    "same_cols = df_t.columns.intersection(df_te.columns)\n",
    "\n",
    "df_t = df_t[same_cols]\n",
    "df_te = df_te[same_cols]\n",
    "\n",
    "# add sale price data back to df_t dataset\n",
    "df_t['Sale Price'] = SalePrice\n",
    "\n",
    "df_train = df_t\n",
    "df_test = df_te"
   ]
  },
  {
   "cell_type": "code",
   "execution_count": 60,
   "metadata": {},
   "outputs": [],
   "source": [
    "# Linear Regression Model"
   ]
  },
  {
   "cell_type": "code",
   "execution_count": 79,
   "metadata": {},
   "outputs": [
    {
     "data": {
      "text/html": [
       "<style>#sk-container-id-2 {color: black;background-color: white;}#sk-container-id-2 pre{padding: 0;}#sk-container-id-2 div.sk-toggleable {background-color: white;}#sk-container-id-2 label.sk-toggleable__label {cursor: pointer;display: block;width: 100%;margin-bottom: 0;padding: 0.3em;box-sizing: border-box;text-align: center;}#sk-container-id-2 label.sk-toggleable__label-arrow:before {content: \"▸\";float: left;margin-right: 0.25em;color: #696969;}#sk-container-id-2 label.sk-toggleable__label-arrow:hover:before {color: black;}#sk-container-id-2 div.sk-estimator:hover label.sk-toggleable__label-arrow:before {color: black;}#sk-container-id-2 div.sk-toggleable__content {max-height: 0;max-width: 0;overflow: hidden;text-align: left;background-color: #f0f8ff;}#sk-container-id-2 div.sk-toggleable__content pre {margin: 0.2em;color: black;border-radius: 0.25em;background-color: #f0f8ff;}#sk-container-id-2 input.sk-toggleable__control:checked~div.sk-toggleable__content {max-height: 200px;max-width: 100%;overflow: auto;}#sk-container-id-2 input.sk-toggleable__control:checked~label.sk-toggleable__label-arrow:before {content: \"▾\";}#sk-container-id-2 div.sk-estimator input.sk-toggleable__control:checked~label.sk-toggleable__label {background-color: #d4ebff;}#sk-container-id-2 div.sk-label input.sk-toggleable__control:checked~label.sk-toggleable__label {background-color: #d4ebff;}#sk-container-id-2 input.sk-hidden--visually {border: 0;clip: rect(1px 1px 1px 1px);clip: rect(1px, 1px, 1px, 1px);height: 1px;margin: -1px;overflow: hidden;padding: 0;position: absolute;width: 1px;}#sk-container-id-2 div.sk-estimator {font-family: monospace;background-color: #f0f8ff;border: 1px dotted black;border-radius: 0.25em;box-sizing: border-box;margin-bottom: 0.5em;}#sk-container-id-2 div.sk-estimator:hover {background-color: #d4ebff;}#sk-container-id-2 div.sk-parallel-item::after {content: \"\";width: 100%;border-bottom: 1px solid gray;flex-grow: 1;}#sk-container-id-2 div.sk-label:hover label.sk-toggleable__label {background-color: #d4ebff;}#sk-container-id-2 div.sk-serial::before {content: \"\";position: absolute;border-left: 1px solid gray;box-sizing: border-box;top: 0;bottom: 0;left: 50%;z-index: 0;}#sk-container-id-2 div.sk-serial {display: flex;flex-direction: column;align-items: center;background-color: white;padding-right: 0.2em;padding-left: 0.2em;position: relative;}#sk-container-id-2 div.sk-item {position: relative;z-index: 1;}#sk-container-id-2 div.sk-parallel {display: flex;align-items: stretch;justify-content: center;background-color: white;position: relative;}#sk-container-id-2 div.sk-item::before, #sk-container-id-2 div.sk-parallel-item::before {content: \"\";position: absolute;border-left: 1px solid gray;box-sizing: border-box;top: 0;bottom: 0;left: 50%;z-index: -1;}#sk-container-id-2 div.sk-parallel-item {display: flex;flex-direction: column;z-index: 1;position: relative;background-color: white;}#sk-container-id-2 div.sk-parallel-item:first-child::after {align-self: flex-end;width: 50%;}#sk-container-id-2 div.sk-parallel-item:last-child::after {align-self: flex-start;width: 50%;}#sk-container-id-2 div.sk-parallel-item:only-child::after {width: 0;}#sk-container-id-2 div.sk-dashed-wrapped {border: 1px dashed gray;margin: 0 0.4em 0.5em 0.4em;box-sizing: border-box;padding-bottom: 0.4em;background-color: white;}#sk-container-id-2 div.sk-label label {font-family: monospace;font-weight: bold;display: inline-block;line-height: 1.2em;}#sk-container-id-2 div.sk-label-container {text-align: center;}#sk-container-id-2 div.sk-container {/* jupyter's `normalize.less` sets `[hidden] { display: none; }` but bootstrap.min.css set `[hidden] { display: none !important; }` so we also need the `!important` here to be able to override the default hidden behavior on the sphinx rendered scikit-learn.org. See: https://github.com/scikit-learn/scikit-learn/issues/21755 */display: inline-block !important;position: relative;}#sk-container-id-2 div.sk-text-repr-fallback {display: none;}</style><div id=\"sk-container-id-2\" class=\"sk-top-container\"><div class=\"sk-text-repr-fallback\"><pre>LinearRegression()</pre><b>In a Jupyter environment, please rerun this cell to show the HTML representation or trust the notebook. <br />On GitHub, the HTML representation is unable to render, please try loading this page with nbviewer.org.</b></div><div class=\"sk-container\" hidden><div class=\"sk-item\"><div class=\"sk-estimator sk-toggleable\"><input class=\"sk-toggleable__control sk-hidden--visually\" id=\"sk-estimator-id-2\" type=\"checkbox\" checked><label for=\"sk-estimator-id-2\" class=\"sk-toggleable__label sk-toggleable__label-arrow\">LinearRegression</label><div class=\"sk-toggleable__content\"><pre>LinearRegression()</pre></div></div></div></div></div>"
      ],
      "text/plain": [
       "LinearRegression()"
      ]
     },
     "execution_count": 79,
     "metadata": {},
     "output_type": "execute_result"
    }
   ],
   "source": [
    "regr = linear_model.LinearRegression()\n",
    "regr.fit(df_train.iloc[:,0:278], df_train.iloc[:,278])"
   ]
  },
  {
   "cell_type": "code",
   "execution_count": 84,
   "metadata": {},
   "outputs": [
    {
     "data": {
      "text/plain": [
       "array([107582.87635029, 136718.75249608, 179662.32912909, ...,\n",
       "       162145.91685126, 104754.56743079, 222029.42650147])"
      ]
     },
     "execution_count": 84,
     "metadata": {},
     "output_type": "execute_result"
    }
   ],
   "source": [
    "pred = regr.predict(df_test)\n",
    "pred_train = regr.predict(df_train.iloc[:, 0:278])\n",
    "\n",
    "pred"
   ]
  },
  {
   "cell_type": "code",
   "execution_count": 90,
   "metadata": {},
   "outputs": [
    {
     "name": "stdout",
     "output_type": "stream",
     "text": [
      "Coefficients: \n",
      " [ 1.54723269e-01 -1.20874203e+02 -7.03140863e+01  4.97669775e-01\n",
      "  8.19039206e+03  4.67971027e+03  1.85415379e+02  9.08158667e+01\n",
      "  2.10840767e+01  2.94044217e+00  3.98246893e+00 -2.47493009e+00\n",
      "  4.44798645e+00  1.18557178e+01  2.93843289e+01 -8.86145459e+00\n",
      "  3.23785841e+01  4.40482917e+03  1.94317023e+03  6.70529876e+03\n",
      "  8.70118466e+02 -3.33300597e+03 -1.24364678e+04  2.33201772e+03\n",
      "  4.50539329e+03 -8.46902526e+01  1.12129912e+04  3.07930277e-01\n",
      "  1.50918201e+01  1.87401717e+00  1.01934729e+01  5.02139269e+01\n",
      "  3.24355380e+01  3.70733112e+01 -1.01481219e+00 -3.94608483e+02\n",
      " -7.82835088e+02 -2.36361282e+04  1.14698347e+04  2.72075001e+03\n",
      "  5.88573690e+03  3.55980654e+03 -1.39542251e+04  1.39542251e+04\n",
      "  1.68306210e+02  7.86757329e+02 -9.55063538e+02  4.41328912e+03\n",
      "  6.37383330e+03 -1.63502403e+04  5.56311786e+03 -8.09381679e+03\n",
      "  5.41994739e+03 -1.38533338e+03  4.05920278e+03  6.05570874e+04\n",
      "  4.21502778e+03  1.48297519e+04 -5.68587244e+03 -1.51885679e+04\n",
      "  1.82966060e+03  1.88510367e+02  6.78089732e+03 -6.96940768e+03\n",
      "  2.05370096e+03 -6.89301246e+02  3.34792385e+03 -5.42411863e+03\n",
      " -1.02794595e+04 -4.47456577e+03  1.51997432e+04 -2.15569127e+04\n",
      " -8.58004030e+03 -1.30783827e+04 -6.82043776e+03 -1.96198966e+04\n",
      " -1.27303714e+04  1.11609010e+04 -1.50704137e+04  3.85891552e+04\n",
      "  2.98669102e+04 -1.74207737e+04 -7.23341368e+03 -9.66227189e+03\n",
      "  4.53609629e+02  5.58644103e+03  4.50723731e+04 -4.11685273e+03\n",
      "  5.42645408e+03 -4.21260509e+03 -4.94546374e+02  1.02833654e+04\n",
      "  6.16419783e+03  9.31807510e+03 -1.74261493e+04  7.68704162e+03\n",
      " -9.50235270e+03 -1.81702647e+03  1.34042535e+04  9.62227644e+03\n",
      "  5.07383252e+03  7.61937768e+04 -1.80395514e+05  5.81127922e+03\n",
      "  1.17368142e+04  5.46602982e+03 -1.32738873e+04 -9.74023598e+03\n",
      "  2.56819425e+04  3.90217120e+04  3.73984577e+04  1.36455560e+04\n",
      "  1.92599920e+04  3.07983190e+04  3.37295146e+04  6.25266735e+04\n",
      " -1.83518887e+04 -1.49421259e+04 -1.63640464e+04 -1.06791912e+04\n",
      " -2.18942141e+03  1.44636067e+05  6.74987524e+04  1.47050290e+05\n",
      "  2.08863275e+05  2.73277101e+04 -3.74990181e+03  1.02427508e+04\n",
      "  2.71864199e+04  1.20776951e+04  1.90607737e+04  9.71674503e+03\n",
      "  1.72780159e+04  1.42560363e+04  1.19091047e+04  1.14151661e+04\n",
      "  1.04492802e+04  1.18874612e+04  1.21837745e+04  2.26031982e+04\n",
      "  1.43005607e+04  1.82423890e+04  1.20776951e+04  1.99306273e+04\n",
      "  1.99335366e+04  4.21865365e+04  1.67856715e+04  1.65035592e+04\n",
      " -3.05937381e+03  5.42480991e+03  2.26818371e+04  2.04867033e+04\n",
      "  1.10418818e+04 -6.97643282e+03 -1.22511715e+03  4.66856804e+03\n",
      "  3.53298193e+03  8.83026815e+03  5.07891567e+03 -6.37047232e+03\n",
      " -7.53871150e+03 -1.24904070e+03  3.53673300e+03  7.39444104e+02\n",
      " -5.79797767e+03  2.77084127e+03  8.58702168e+02  5.13777541e+03\n",
      "  6.53437456e+03 -8.89878156e+03  1.25970361e+04 -1.62291067e+04\n",
      "  1.59316046e+04 -1.69915456e+03 -6.40237237e+03 -3.26753939e+03\n",
      " -4.56253827e+03 -8.56702165e+03 -5.78791941e+03  2.07057701e+04\n",
      " -1.78829071e+03 -4.56253827e+03  1.58045776e+03  1.67533260e+04\n",
      " -2.81968767e+03 -4.84891505e+03 -1.06651810e+04  1.06610450e+03\n",
      "  8.42900211e+02  6.54070723e+03 -2.27116269e+03  2.01385714e+03\n",
      " -3.62986812e+03 -4.56253827e+03 -1.02095957e+03 -6.26192534e+03\n",
      "  8.79873722e+03 -6.12195724e+03 -4.33147278e+03 -1.60744739e+03\n",
      "  1.05450251e+04  2.62555233e+04  3.29990068e+04  2.41499773e+04\n",
      "  3.77983168e+04  4.50117118e+03  4.23187657e+03  5.13311736e+02\n",
      " -9.69223654e+03  4.45877055e+02 -8.70892824e+02  8.70892824e+02\n",
      " -4.21282633e+03 -4.38913102e+03  2.25066374e+03 -7.88158253e+03\n",
      "  1.81671110e+04 -5.23579868e+03 -7.14684647e+03 -5.78446589e+03\n",
      "  1.68732256e+03 -3.87217443e+03  6.29918333e+03  1.01088456e+04\n",
      "  1.51844749e+04 -4.91548706e+04  1.97472186e+04  2.96060096e+03\n",
      " -3.88570286e+03 -2.02004973e+03  2.79513290e+03 -1.11024677e+02\n",
      "  2.61043418e+02 -1.71408862e+04  3.08130519e+03  1.23035246e+04\n",
      "  1.71758614e+03  9.94417963e+03  5.14108122e+03 -1.50467905e+04\n",
      "  6.27846071e+03  3.49353658e+03  5.27479325e+03 -1.50467905e+04\n",
      " -1.12194317e+05 -9.85797979e+04 -1.31683552e+05 -1.01803226e+05\n",
      " -1.50467905e+04 -7.22909935e+04  2.37332036e+04  2.13858578e+04\n",
      "  2.12830318e+04  2.09356908e+04 -1.50467905e+04 -4.17954131e+02\n",
      " -7.16443329e+02  1.13439746e+03 -4.02315515e+03  7.69137316e+02\n",
      "  4.52442760e+03 -3.72191827e+03  2.45150850e+03 -1.36279214e+04\n",
      "  4.94115520e+03  1.75730371e+04  4.43148548e+03 -3.40255092e+03\n",
      " -1.49317753e+04  2.17469543e+04 -3.75378793e+03 -1.29765966e+04\n",
      "  5.81981389e+02  2.87623463e+02  7.10271147e+03  6.96643710e+02\n",
      "  6.35384895e+03 -1.50228090e+04]\n",
      "Mean squared error: 554181858.20\n",
      "Coefficient of determination: 0.91\n"
     ]
    }
   ],
   "source": [
    "print(\"Coefficients: \\n\", regr.coef_)\n",
    "# The mean squared error\n",
    "print(\"Mean squared error: %.2f\" % mean_squared_error(df_train.iloc[:,278], pred_train))\n",
    "# The coefficient of determination: 1 is perfect prediction\n",
    "print(\"Coefficient of determination: %.2f\" % r2_score(df_train.iloc[:,278], pred_train))"
   ]
  },
  {
   "cell_type": "code",
   "execution_count": 89,
   "metadata": {},
   "outputs": [
    {
     "data": {
      "text/plain": [
       "0       208500\n",
       "1       181500\n",
       "2       223500\n",
       "3       140000\n",
       "4       250000\n",
       "         ...  \n",
       "1455    175000\n",
       "1456    210000\n",
       "1457    266500\n",
       "1458    142125\n",
       "1459    147500\n",
       "Name: Sale Price, Length: 1460, dtype: int64"
      ]
     },
     "execution_count": 89,
     "metadata": {},
     "output_type": "execute_result"
    }
   ],
   "source": [
    "df_train.iloc[:,278]"
   ]
  },
  {
   "cell_type": "code",
   "execution_count": 88,
   "metadata": {},
   "outputs": [
    {
     "data": {
      "text/plain": [
       "array([207826.02270052, 205699.52443328, 208076.08302611, ...,\n",
       "       272102.57641602, 151680.16740126, 138022.12285438])"
      ]
     },
     "execution_count": 88,
     "metadata": {},
     "output_type": "execute_result"
    }
   ],
   "source": [
    "pred_train"
   ]
  },
  {
   "cell_type": "code",
   "execution_count": 93,
   "metadata": {},
   "outputs": [
    {
     "name": "stdout",
     "output_type": "stream",
     "text": [
      "Elastic Net model trained successfully.\n",
      "Predictions made on the test data.\n",
      "Elastic Net coefficients:\n",
      "[-2.57126171e+00 -1.89352263e+02 -1.86685530e+02  4.14614969e-01\n",
      "  1.19310762e+04  4.61599581e+03  3.12396995e+02  1.57317809e+02\n",
      "  2.50162704e+01  1.09344385e+01  6.69288544e+00  3.15833595e+00\n",
      "  2.03428535e+00  3.91535045e+01  4.59793088e+01  3.35709205e+01\n",
      "  5.97208068e+00  4.39117205e+03 -1.05123161e+03  1.82129679e+03\n",
      "  5.93659607e+02 -2.75253919e+03 -1.78655099e+03  2.48740635e+03\n",
      "  3.32418532e+03 -7.89075604e-01  5.61858555e+03  2.36826956e+01\n",
      "  2.27867756e+01 -8.25515506e+00  1.38206911e+01  4.81643444e+01\n",
      "  6.33834823e+01 -9.45198809e+00 -1.38182392e+00 -1.73547532e+02\n",
      " -2.47869508e+02 -3.47286555e+02  1.10118533e+03 -4.86649016e+01\n",
      "  1.53926552e+03 -2.24216606e+03 -2.71198851e+02  2.71198851e+02\n",
      " -4.54750034e+02 -1.25371341e+02  5.82454709e+02  6.30751167e+02\n",
      "  1.83302181e+03 -1.85475099e+03 -6.09021985e+02 -3.56386695e+03\n",
      "  3.20430588e+03  8.90856535e+01  2.65808755e+02  2.70624078e+02\n",
      " -1.01391834e+03  2.86817000e+03 -9.89102837e+02 -1.65507235e+02\n",
      " -6.92641587e+02 -1.93129271e+03  1.93506734e+03 -1.44129897e+00\n",
      " -9.01446452e+02 -6.57175548e+01 -1.41513498e+02  1.64762973e+03\n",
      "  1.51183766e+02 -2.66879945e+03  3.38785732e+03 -4.11117283e+03\n",
      " -2.73774850e+03 -1.52482124e+02 -1.71468886e+02 -2.11882617e+03\n",
      " -1.86937735e+03  2.15498409e+02 -2.31635024e+03  4.53405161e+03\n",
      "  5.72224940e+03 -1.44181012e+03 -2.84404137e+02 -1.08410520e+02\n",
      " -1.24268857e+03  1.24236345e+03  3.45321847e+03 -7.94705617e+02\n",
      "  7.89203192e+02 -7.38769021e+02 -2.48672030e+03  5.40348861e+03\n",
      "  1.19768374e+02 -1.41699180e+03 -9.15112770e+02  7.97428002e+01\n",
      "  8.27485677e+00 -5.13474216e+01  2.15509747e+02 -9.30769579e+01\n",
      "  1.52358209e+03  2.53443478e+02 -1.79228874e+03  7.94427325e+02\n",
      "  1.51069099e+03 -1.11954236e+03 -1.13364043e+03 -4.96021894e+01\n",
      " -8.53438057e+02  4.55208144e+02  2.39613822e+03 -4.37657608e+02\n",
      " -2.30576264e+03  3.76513854e+02  4.63476879e+02  3.43161382e+02\n",
      " -2.35836652e+03  1.51196349e+02  1.78564298e+03  5.27854115e+01\n",
      "  1.62470632e+01  1.35224883e+03  9.21795537e+01 -7.35847274e+01\n",
      "  9.36424733e+02 -2.55936324e+02 -9.63853557e+01 -1.54003941e+02\n",
      "  3.48719859e+03  2.62233225e+01  1.06454517e+03 -1.24093963e+03\n",
      "  4.37039860e+02 -1.06899322e+03 -1.60443455e+03 -3.95791327e+02\n",
      "  5.35633776e+01 -3.62405166e+02 -5.49660611e+01 -5.52553544e+01\n",
      " -1.46300215e+02  1.38046421e+03  2.62233225e+01  8.34828295e+02\n",
      " -5.26914288e+02  1.74422827e+03  3.52865652e+02 -1.98458165e+03\n",
      "  1.20237666e+02 -1.52310959e+03 -5.09255316e+02  9.15898031e+02\n",
      " -6.53523821e+02 -1.01634032e+03 -2.57273745e+03  1.00478048e+03\n",
      "  2.58429728e+03  3.61502605e+03  3.46689710e+02  3.04878688e+02\n",
      " -4.27126112e+03  2.38967832e+02  6.17359742e+02 -5.64657386e+02\n",
      " -1.59529736e+01 -2.73383882e+02 -6.34978541e+02 -1.20842825e+03\n",
      "  2.51914081e+03 -2.93268456e+02  7.89062217e+01 -4.56705113e+02\n",
      "  7.81079055e+03 -0.00000000e+00 -4.43406694e+03 -2.84585178e+03\n",
      " -5.24395857e+02 -1.38234373e+03 -1.28131152e+02  1.08486201e+02\n",
      "  1.92871787e+03 -5.24395857e+02  7.79735042e+02  4.79746556e+03\n",
      "  2.10051101e+02 -5.26518917e+03 -5.24395857e+02 -2.93121433e+01\n",
      "  4.62729135e+02  3.86039581e+03 -1.23673524e+03 -3.42667078e+02\n",
      " -2.18301462e+03 -5.24395857e+02  9.54548299e+02 -7.63163829e+02\n",
      " -1.08242822e+02 -4.89360836e+02 -3.86737274e+02  1.32435232e+03\n",
      " -5.24395857e+02 -2.99678042e+02  2.84520980e+02  1.59745935e+02\n",
      "  2.14002257e+02  1.67120406e+03  4.09987200e+02 -1.53209264e+03\n",
      " -5.98137924e+01 -4.86951496e+02  9.22351922e+01 -9.22351922e+01\n",
      "  4.78818872e+02 -8.36549762e+01 -1.24416196e+02 -3.69954794e+02\n",
      "  7.37600442e+03  9.30304980e+02 -3.72046315e+03 -4.58584625e+03\n",
      " -4.58921962e+02 -4.15088070e+02 -1.33694109e+03 -1.07603415e+03\n",
      " -2.03102302e+02 -3.76105437e+02  3.87785968e+03  1.88146861e+03\n",
      " -4.47112970e+02  1.00222700e+03 -2.62837997e+02 -2.74899814e+02\n",
      " -1.89417816e+03 -7.23119877e+02  2.92127688e+02  3.24502059e+01\n",
      "  6.74298821e+02 -3.47018133e+02 -1.06061106e+03  1.12953902e+03\n",
      "  1.03852453e+03 -8.26215637e+02 -1.34184791e+03  1.12953902e+03\n",
      " -9.91677868e+02  8.68988036e+02  1.92264936e+01 -1.67831954e+03\n",
      "  1.12953902e+03  4.62020241e+01 -3.44463617e+02 -4.09098700e+01\n",
      " -1.63643896e+02 -6.22056994e+02  1.12953902e+03 -1.20163735e+02\n",
      " -1.88251865e+02  3.10748933e+02 -9.78426046e+02 -1.88984265e+02\n",
      "  1.30656972e+03 -3.48831134e+02  2.12005058e+02 -1.76277892e+03\n",
      "  3.89407546e+02  3.39167616e+02  3.16838170e+02 -2.80788961e+02\n",
      " -1.55504285e+02  2.63537116e+03  1.95481031e+02 -1.67952669e+03\n",
      " -1.60383206e+03  9.62682575e+01  7.04177529e+02 -6.37556782e+02\n",
      " -1.23750147e+03  2.67844452e+03]\n",
      "Coefficients: \n",
      " [ 1.54723269e-01 -1.20874203e+02 -7.03140863e+01  4.97669775e-01\n",
      "  8.19039206e+03  4.67971027e+03  1.85415379e+02  9.08158667e+01\n",
      "  2.10840767e+01  2.94044217e+00  3.98246893e+00 -2.47493009e+00\n",
      "  4.44798645e+00  1.18557178e+01  2.93843289e+01 -8.86145459e+00\n",
      "  3.23785841e+01  4.40482917e+03  1.94317023e+03  6.70529876e+03\n",
      "  8.70118466e+02 -3.33300597e+03 -1.24364678e+04  2.33201772e+03\n",
      "  4.50539329e+03 -8.46902526e+01  1.12129912e+04  3.07930277e-01\n",
      "  1.50918201e+01  1.87401717e+00  1.01934729e+01  5.02139269e+01\n",
      "  3.24355380e+01  3.70733112e+01 -1.01481219e+00 -3.94608483e+02\n",
      " -7.82835088e+02 -2.36361282e+04  1.14698347e+04  2.72075001e+03\n",
      "  5.88573690e+03  3.55980654e+03 -1.39542251e+04  1.39542251e+04\n",
      "  1.68306210e+02  7.86757329e+02 -9.55063538e+02  4.41328912e+03\n",
      "  6.37383330e+03 -1.63502403e+04  5.56311786e+03 -8.09381679e+03\n",
      "  5.41994739e+03 -1.38533338e+03  4.05920278e+03  6.05570874e+04\n",
      "  4.21502778e+03  1.48297519e+04 -5.68587244e+03 -1.51885679e+04\n",
      "  1.82966060e+03  1.88510367e+02  6.78089732e+03 -6.96940768e+03\n",
      "  2.05370096e+03 -6.89301246e+02  3.34792385e+03 -5.42411863e+03\n",
      " -1.02794595e+04 -4.47456577e+03  1.51997432e+04 -2.15569127e+04\n",
      " -8.58004030e+03 -1.30783827e+04 -6.82043776e+03 -1.96198966e+04\n",
      " -1.27303714e+04  1.11609010e+04 -1.50704137e+04  3.85891552e+04\n",
      "  2.98669102e+04 -1.74207737e+04 -7.23341368e+03 -9.66227189e+03\n",
      "  4.53609629e+02  5.58644103e+03  4.50723731e+04 -4.11685273e+03\n",
      "  5.42645408e+03 -4.21260509e+03 -4.94546374e+02  1.02833654e+04\n",
      "  6.16419783e+03  9.31807510e+03 -1.74261493e+04  7.68704162e+03\n",
      " -9.50235270e+03 -1.81702647e+03  1.34042535e+04  9.62227644e+03\n",
      "  5.07383252e+03  7.61937768e+04 -1.80395514e+05  5.81127922e+03\n",
      "  1.17368142e+04  5.46602982e+03 -1.32738873e+04 -9.74023598e+03\n",
      "  2.56819425e+04  3.90217120e+04  3.73984577e+04  1.36455560e+04\n",
      "  1.92599920e+04  3.07983190e+04  3.37295146e+04  6.25266735e+04\n",
      " -1.83518887e+04 -1.49421259e+04 -1.63640464e+04 -1.06791912e+04\n",
      " -2.18942141e+03  1.44636067e+05  6.74987524e+04  1.47050290e+05\n",
      "  2.08863275e+05  2.73277101e+04 -3.74990181e+03  1.02427508e+04\n",
      "  2.71864199e+04  1.20776951e+04  1.90607737e+04  9.71674503e+03\n",
      "  1.72780159e+04  1.42560363e+04  1.19091047e+04  1.14151661e+04\n",
      "  1.04492802e+04  1.18874612e+04  1.21837745e+04  2.26031982e+04\n",
      "  1.43005607e+04  1.82423890e+04  1.20776951e+04  1.99306273e+04\n",
      "  1.99335366e+04  4.21865365e+04  1.67856715e+04  1.65035592e+04\n",
      " -3.05937381e+03  5.42480991e+03  2.26818371e+04  2.04867033e+04\n",
      "  1.10418818e+04 -6.97643282e+03 -1.22511715e+03  4.66856804e+03\n",
      "  3.53298193e+03  8.83026815e+03  5.07891567e+03 -6.37047232e+03\n",
      " -7.53871150e+03 -1.24904070e+03  3.53673300e+03  7.39444104e+02\n",
      " -5.79797767e+03  2.77084127e+03  8.58702168e+02  5.13777541e+03\n",
      "  6.53437456e+03 -8.89878156e+03  1.25970361e+04 -1.62291067e+04\n",
      "  1.59316046e+04 -1.69915456e+03 -6.40237237e+03 -3.26753939e+03\n",
      " -4.56253827e+03 -8.56702165e+03 -5.78791941e+03  2.07057701e+04\n",
      " -1.78829071e+03 -4.56253827e+03  1.58045776e+03  1.67533260e+04\n",
      " -2.81968767e+03 -4.84891505e+03 -1.06651810e+04  1.06610450e+03\n",
      "  8.42900211e+02  6.54070723e+03 -2.27116269e+03  2.01385714e+03\n",
      " -3.62986812e+03 -4.56253827e+03 -1.02095957e+03 -6.26192534e+03\n",
      "  8.79873722e+03 -6.12195724e+03 -4.33147278e+03 -1.60744739e+03\n",
      "  1.05450251e+04  2.62555233e+04  3.29990068e+04  2.41499773e+04\n",
      "  3.77983168e+04  4.50117118e+03  4.23187657e+03  5.13311736e+02\n",
      " -9.69223654e+03  4.45877055e+02 -8.70892824e+02  8.70892824e+02\n",
      " -4.21282633e+03 -4.38913102e+03  2.25066374e+03 -7.88158253e+03\n",
      "  1.81671110e+04 -5.23579868e+03 -7.14684647e+03 -5.78446589e+03\n",
      "  1.68732256e+03 -3.87217443e+03  6.29918333e+03  1.01088456e+04\n",
      "  1.51844749e+04 -4.91548706e+04  1.97472186e+04  2.96060096e+03\n",
      " -3.88570286e+03 -2.02004973e+03  2.79513290e+03 -1.11024677e+02\n",
      "  2.61043418e+02 -1.71408862e+04  3.08130519e+03  1.23035246e+04\n",
      "  1.71758614e+03  9.94417963e+03  5.14108122e+03 -1.50467905e+04\n",
      "  6.27846071e+03  3.49353658e+03  5.27479325e+03 -1.50467905e+04\n",
      " -1.12194317e+05 -9.85797979e+04 -1.31683552e+05 -1.01803226e+05\n",
      " -1.50467905e+04 -7.22909935e+04  2.37332036e+04  2.13858578e+04\n",
      "  2.12830318e+04  2.09356908e+04 -1.50467905e+04 -4.17954131e+02\n",
      " -7.16443329e+02  1.13439746e+03 -4.02315515e+03  7.69137316e+02\n",
      "  4.52442760e+03 -3.72191827e+03  2.45150850e+03 -1.36279214e+04\n",
      "  4.94115520e+03  1.75730371e+04  4.43148548e+03 -3.40255092e+03\n",
      " -1.49317753e+04  2.17469543e+04 -3.75378793e+03 -1.29765966e+04\n",
      "  5.81981389e+02  2.87623463e+02  7.10271147e+03  6.96643710e+02\n",
      "  6.35384895e+03 -1.50228090e+04]\n",
      "Mean squared error: 1075103298.36\n",
      "Coefficient of determination: 0.86\n"
     ]
    },
    {
     "name": "stderr",
     "output_type": "stream",
     "text": [
      "c:\\Users\\shrof\\anaconda3\\Lib\\site-packages\\sklearn\\linear_model\\_coordinate_descent.py:631: ConvergenceWarning: Objective did not converge. You might want to increase the number of iterations, check the scale of the features or consider increasing regularisation. Duality gap: 5.438e+11, tolerance: 6.967e+08\n",
      "  model = cd_fast.enet_coordinate_descent(\n"
     ]
    }
   ],
   "source": [
    "# elastic net\n",
    "from sklearn.linear_model import ElasticNet\n",
    "from sklearn.datasets import make_regression\n",
    "from sklearn.model_selection import train_test_split\n",
    "\n",
    "# Separate features (X) and target variable (y)\n",
    "X = df_train.iloc[:,0:278]\n",
    "y = df_train.iloc[:,278]\n",
    "\n",
    "# Split the data into training and testing sets\n",
    "X_train, X_test, y_train, y_test = train_test_split(X, y, test_size=0.2, random_state=42)\n",
    "\n",
    "# Create an instance of the ElasticNet model\n",
    "elastic_net = ElasticNet(alpha=0.5, l1_ratio=0.7)\n",
    "\n",
    "# Fit the model to the training data\n",
    "elastic_net.fit(X_train, y_train)\n",
    "print('Elastic Net model trained successfully.')\n",
    "\n",
    "# Make predictions on the test data\n",
    "y_pred = elastic_net.predict(X_test)\n",
    "print('Predictions made on the test data.')\n",
    "\n",
    "# Print the coefficients of the trained model\n",
    "print('Elastic Net coefficients:')\n",
    "print(elastic_net.coef_)\n",
    "\n",
    "print(\"Coefficients: \\n\", regr.coef_)\n",
    "# The mean squared error\n",
    "print(\"Mean squared error: %.2f\" % mean_squared_error(y_test, y_pred))\n",
    "# The coefficient of determination: 1 is perfect prediction\n",
    "print(\"Coefficient of determination: %.2f\" % r2_score(y_test, y_pred))"
   ]
  },
  {
   "cell_type": "code",
   "execution_count": null,
   "metadata": {},
   "outputs": [],
   "source": []
  }
 ],
 "metadata": {
  "kernelspec": {
   "display_name": "base",
   "language": "python",
   "name": "python3"
  },
  "language_info": {
   "codemirror_mode": {
    "name": "ipython",
    "version": 3
   },
   "file_extension": ".py",
   "mimetype": "text/x-python",
   "name": "python",
   "nbconvert_exporter": "python",
   "pygments_lexer": "ipython3",
   "version": "3.11.7"
  }
 },
 "nbformat": 4,
 "nbformat_minor": 2
}
