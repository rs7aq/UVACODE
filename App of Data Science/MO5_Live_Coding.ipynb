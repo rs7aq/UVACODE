{
 "cells": [
  {
   "cell_type": "code",
   "execution_count": 6,
   "metadata": {},
   "outputs": [],
   "source": [
    "import numpy as np\n",
    "import pandas as pd\n",
    "import json\n",
    "import requests\n",
    "from bs4 import BeautifulSoup"
   ]
  },
  {
   "cell_type": "code",
   "execution_count": 7,
   "metadata": {},
   "outputs": [],
   "source": [
    "# web scraping is something you should try to avoid!"
   ]
  },
  {
   "cell_type": "code",
   "execution_count": 10,
   "metadata": {},
   "outputs": [],
   "source": [
    "r = requests.get('https://httpbin.org/user-agent')\n",
    "useragent = json.loads(r.text)['user-agent']\n",
    "headers = {'useragent': useragent}"
   ]
  },
  {
   "cell_type": "code",
   "execution_count": 11,
   "metadata": {},
   "outputs": [
    {
     "data": {
      "text/plain": [
       "<Response [200]>"
      ]
     },
     "execution_count": 11,
     "metadata": {},
     "output_type": "execute_result"
    }
   ],
   "source": [
    "url = 'https://www.rottentomatoes.com/browse/movies_in_theaters/sort:a_z?page=5'\n",
    "r = requests.get(url, headers = headers)\n",
    "r"
   ]
  },
  {
   "cell_type": "code",
   "execution_count": 15,
   "metadata": {},
   "outputs": [],
   "source": [
    "mysoup = BeautifulSoup(r.text, 'html.parser')\n",
    "#mysoup"
   ]
  },
  {
   "cell_type": "code",
   "execution_count": 16,
   "metadata": {},
   "outputs": [],
   "source": [
    "# Goal 1: get a list of hyperlinks to individual movie pages\n",
    "# find will find first occurance, find all will find all and put into list"
   ]
  },
  {
   "cell_type": "code",
   "execution_count": 19,
   "metadata": {},
   "outputs": [],
   "source": [
    "href_list = mysoup.find_all('a', attrs = {'data-track':'scores'})"
   ]
  },
  {
   "cell_type": "code",
   "execution_count": 27,
   "metadata": {},
   "outputs": [
    {
     "data": {
      "text/plain": [
       "'/m/a_man_of_reason'"
      ]
     },
     "execution_count": 27,
     "metadata": {},
     "output_type": "execute_result"
    }
   ],
   "source": [
    "href_list[0]['href']"
   ]
  },
  {
   "cell_type": "code",
   "execution_count": 36,
   "metadata": {},
   "outputs": [
    {
     "data": {
      "text/plain": [
       "['https://www.rottentomatoes.com/m/a_man_of_reason',\n",
       " 'https://www.rottentomatoes.com/m/a_quiet_place_day_one',\n",
       " 'https://www.rottentomatoes.com/m/babes',\n",
       " 'https://www.rottentomatoes.com/m/bad_boys_ride_or_die',\n",
       " 'https://www.rottentomatoes.com/m/banel_and_adama',\n",
       " 'https://www.rottentomatoes.com/m/beverly_hills_cop_axel_f',\n",
       " 'https://www.rottentomatoes.com/m/blue_lock_the_movie_episode_nagi',\n",
       " 'https://www.rottentomatoes.com/m/boneyard_2024',\n",
       " 'https://www.rottentomatoes.com/m/chestnut',\n",
       " 'https://www.rottentomatoes.com/m/close_encounters_of_the_third_kind',\n",
       " 'https://www.rottentomatoes.com/m/daddio_2023',\n",
       " 'https://www.rottentomatoes.com/m/dandelion_2024',\n",
       " 'https://www.rottentomatoes.com/m/dead_whisper',\n",
       " 'https://www.rottentomatoes.com/m/despicable_me_4',\n",
       " 'https://www.rottentomatoes.com/m/talju',\n",
       " 'https://www.rottentomatoes.com/m/escape_2023',\n",
       " 'https://www.rottentomatoes.com/m/evil_does_not_exist',\n",
       " 'https://www.rottentomatoes.com/m/firebrand_2023',\n",
       " 'https://www.rottentomatoes.com/m/fly_me_to_the_moon_2024',\n",
       " 'https://www.rottentomatoes.com/m/furiosa_a_mad_max_saga',\n",
       " 'https://www.rottentomatoes.com/m/ghostlight_2024',\n",
       " 'https://www.rottentomatoes.com/m/goldilocks_and_the_two_bears',\n",
       " 'https://www.rottentomatoes.com/m/green_border',\n",
       " 'https://www.rottentomatoes.com/m/hijack_1971',\n",
       " 'https://www.rottentomatoes.com/m/horizon_an_american_saga_chapter_1',\n",
       " 'https://www.rottentomatoes.com/m/how_to_come_alive_with_norman_mailer',\n",
       " 'https://www.rottentomatoes.com/m/i_used_to_be_funny',\n",
       " 'https://www.rottentomatoes.com/m/if_2024',\n",
       " 'https://www.rottentomatoes.com/m/in_a_violent_nature',\n",
       " 'https://www.rottentomatoes.com/m/inside_out_2',\n",
       " 'https://www.rottentomatoes.com/m/janet_planet',\n",
       " 'https://www.rottentomatoes.com/m/jatt_and_juliet_3',\n",
       " 'https://www.rottentomatoes.com/m/june_zero',\n",
       " 'https://www.rottentomatoes.com/m/kalki_2898_ad',\n",
       " 'https://www.rottentomatoes.com/m/kill_2023_2',\n",
       " 'https://www.rottentomatoes.com/m/kinds_of_kindness',\n",
       " 'https://www.rottentomatoes.com/m/kingdom_of_the_planet_of_the_apes',\n",
       " 'https://www.rottentomatoes.com/m/last_summer_2023',\n",
       " 'https://www.rottentomatoes.com/m/life_hotel',\n",
       " 'https://www.rottentomatoes.com/m/longlegs',\n",
       " 'https://www.rottentomatoes.com/m/lumina',\n",
       " 'https://www.rottentomatoes.com/m/maxxxine',\n",
       " 'https://www.rottentomatoes.com/m/made_in_england_the_films_of_powell_and_pressburger',\n",
       " 'https://www.rottentomatoes.com/m/mother_couch',\n",
       " 'https://www.rottentomatoes.com/m/murder_company',\n",
       " 'https://www.rottentomatoes.com/m/national_anthem',\n",
       " 'https://www.rottentomatoes.com/m/nostalghia',\n",
       " 'https://www.rottentomatoes.com/m/princess_mononoke',\n",
       " 'https://www.rottentomatoes.com/m/project_silence',\n",
       " 'https://www.rottentomatoes.com/m/robot_dreams',\n",
       " 'https://www.rottentomatoes.com/m/run_lola_run',\n",
       " 'https://www.rottentomatoes.com/m/sarfira',\n",
       " 'https://www.rottentomatoes.com/m/seven_samurai_1956',\n",
       " 'https://www.rottentomatoes.com/m/sing_sing',\n",
       " 'https://www.rottentomatoes.com/m/skywalkers_a_love_story',\n",
       " 'https://www.rottentomatoes.com/m/sorry_not_sorry',\n",
       " 'https://www.rottentomatoes.com/m/sound_of_hope_the_story_of_possum_trot',\n",
       " 'https://www.rottentomatoes.com/m/summer_camp_2024',\n",
       " 'https://www.rottentomatoes.com/m/taking_venice',\n",
       " 'https://www.rottentomatoes.com/m/the_beast_2023',\n",
       " 'https://www.rottentomatoes.com/m/the_bikeriders',\n",
       " 'https://www.rottentomatoes.com/m/the_blue_rose',\n",
       " 'https://www.rottentomatoes.com/m/the_convert_2023',\n",
       " 'https://www.rottentomatoes.com/m/the_exorcism_2024',\n",
       " 'https://www.rottentomatoes.com/m/the_fall_guy_2024',\n",
       " 'https://www.rottentomatoes.com/m/the_garfield_movie',\n",
       " 'https://www.rottentomatoes.com/m/the_inheritance_2024',\n",
       " 'https://www.rottentomatoes.com/m/the_nature_of_love',\n",
       " 'https://www.rottentomatoes.com/m/the_old_oak',\n",
       " 'https://www.rottentomatoes.com/m/the_secret_art_of_human_flight',\n",
       " 'https://www.rottentomatoes.com/m/the_small_back_room_1952',\n",
       " 'https://www.rottentomatoes.com/m/the_strangers_chapter_1',\n",
       " 'https://www.rottentomatoes.com/m/the_watchers_2024',\n",
       " 'https://www.rottentomatoes.com/m/thelma_2024',\n",
       " 'https://www.rottentomatoes.com/m/touch_2024',\n",
       " 'https://www.rottentomatoes.com/m/wicked_little_letters']"
      ]
     },
     "execution_count": 36,
     "metadata": {},
     "output_type": "execute_result"
    }
   ],
   "source": [
    "movielinks = ['https://www.rottentomatoes.com' + x['href'] for x in href_list]\n",
    "movielinks\n"
   ]
  },
  {
   "cell_type": "code",
   "execution_count": 34,
   "metadata": {},
   "outputs": [],
   "source": [
    "## Extract data from one movie page"
   ]
  },
  {
   "cell_type": "code",
   "execution_count": 54,
   "metadata": {},
   "outputs": [
    {
     "data": {
      "text/plain": [
       "'https://www.rottentomatoes.com/m/bad_boys_ride_or_die'"
      ]
     },
     "execution_count": 54,
     "metadata": {},
     "output_type": "execute_result"
    }
   ],
   "source": [
    "url = movielinks[3]\n",
    "url"
   ]
  },
  {
   "cell_type": "code",
   "execution_count": 55,
   "metadata": {},
   "outputs": [],
   "source": [
    "r = requests.get(url, headers = headers)\n",
    "mysoup1 = BeautifulSoup(r.text)"
   ]
  },
  {
   "cell_type": "code",
   "execution_count": 56,
   "metadata": {},
   "outputs": [
    {
     "data": {
      "text/plain": [
       "'Bad Boys: Ride or Die'"
      ]
     },
     "execution_count": 56,
     "metadata": {},
     "output_type": "execute_result"
    }
   ],
   "source": [
    "mysoup1.find('title').text.replace(' | Rotten Tomatoes', '')"
   ]
  },
  {
   "cell_type": "code",
   "execution_count": 57,
   "metadata": {},
   "outputs": [],
   "source": [
    "moviedata = {}"
   ]
  },
  {
   "cell_type": "code",
   "execution_count": 108,
   "metadata": {},
   "outputs": [
    {
     "data": {
      "text/plain": [
       "'Bad Boys: Ride or Die | Rotten Tomatoes'"
      ]
     },
     "execution_count": 108,
     "metadata": {},
     "output_type": "execute_result"
    }
   ],
   "source": [
    "mysoup1.find('title').text\n"
   ]
  },
  {
   "cell_type": "code",
   "execution_count": 58,
   "metadata": {},
   "outputs": [
    {
     "data": {
      "text/plain": [
       "{'title': 'Bad Boys: Ride or Die'}"
      ]
     },
     "execution_count": 58,
     "metadata": {},
     "output_type": "execute_result"
    }
   ],
   "source": [
    "moviedata['title'] = mysoup1.find('title').text.replace(' | Rotten Tomatoes', '')\n",
    "moviedata"
   ]
  },
  {
   "cell_type": "code",
   "execution_count": 61,
   "metadata": {},
   "outputs": [],
   "source": [
    "moviedata['description'] = mysoup1.find('meta', attrs = {'name':'description'})['content']"
   ]
  },
  {
   "cell_type": "code",
   "execution_count": 65,
   "metadata": {},
   "outputs": [],
   "source": [
    "moviedata['critic_score'] = mysoup1.find('rt-button', slot='criticsScore').text.strip()\n",
    "moviedata['audience_score'] = mysoup1.find('rt-button', slot='audienceScore').text.strip()"
   ]
  },
  {
   "cell_type": "code",
   "execution_count": 66,
   "metadata": {},
   "outputs": [
    {
     "data": {
      "text/plain": [
       "{'title': 'Bad Boys: Ride or Die',\n",
       " 'description': \"This Summer, the world's favorite Bad Boys are back with their iconic mix of edge-of-your seat action and outrageous comedy but this time with a twist: Miami's finest are now on the run.\",\n",
       " 'critic_score': '64%',\n",
       " 'audience_score': '97%'}"
      ]
     },
     "execution_count": 66,
     "metadata": {},
     "output_type": "execute_result"
    }
   ],
   "source": [
    "moviedata"
   ]
  },
  {
   "cell_type": "code",
   "execution_count": 72,
   "metadata": {},
   "outputs": [],
   "source": [
    "moviedata['critic_concensus'] = mysoup1.find('div', 'consensus').p.text"
   ]
  },
  {
   "cell_type": "code",
   "execution_count": 80,
   "metadata": {},
   "outputs": [],
   "source": [
    "cat = mysoup1.find_all('div', 'category-wrap')\n",
    "cats = [x.text.strip().split('\\n\\n\\n') for x in cat]\n",
    "for c in cats:\n",
    "    moviedata[c[0]] = c[1].replace('\\n', '')\n",
    "#cat[0].text.strip().split('\\n\\n\\n')"
   ]
  },
  {
   "cell_type": "code",
   "execution_count": 81,
   "metadata": {},
   "outputs": [
    {
     "data": {
      "text/plain": [
       "[['Director', 'Adil El Arbi, \\nBilall Fallah'],\n",
       " ['Producer', 'Jerry Bruckheimer, \\nWill Smith, \\nChad Oman, \\nDoug Belgrad'],\n",
       " ['Screenwriter', 'Chris Bremner'],\n",
       " ['Distributor', 'Columbia Pictures'],\n",
       " ['Production Co',\n",
       "  'Columbia Pictures, \\nWestbrook Studios, \\nJerry Bruckheimer Films'],\n",
       " ['Rating', 'R (Some Sexual References|Language Throughout|Strong Violence)'],\n",
       " ['Genre', 'Action, \\nComedy'],\n",
       " ['Original Language', 'English'],\n",
       " ['Release Date (Theaters)', 'Jun 7, 2024, Wide'],\n",
       " ['Box Office (Gross USA)', '$177.5M'],\n",
       " ['Runtime', '1h 55m'],\n",
       " ['Sound Mix', 'Dolby Atmos, \\nDolby Digital'],\n",
       " ['Aspect Ratio', 'Digital 2.39:1']]"
      ]
     },
     "execution_count": 81,
     "metadata": {},
     "output_type": "execute_result"
    }
   ],
   "source": [
    "cats"
   ]
  },
  {
   "cell_type": "code",
   "execution_count": 94,
   "metadata": {},
   "outputs": [],
   "source": [
    "# Build the spider\n",
    "\n",
    "def moviescrape(url):\n",
    "\n",
    "    r = requests.get(url, headers=headers)\n",
    "    mysoup1 = BeautifulSoup(r.text, 'html.parser')\n",
    "\n",
    "    moviedata = {}\n",
    "\n",
    "    moviedata['title'] = mysoup1.find('title').text.replace(' | Rotten Tomatoes', '')\n",
    "    moviedata['description'] = mysoup1.find('meta', attrs = {'name':'description'})['content']\n",
    "    moviedata['critic_score'] = mysoup1.find('rt-button', slot='criticsScore').text.strip()\n",
    "    moviedata['audience_score'] = mysoup1.find('rt-button', slot='audienceScore').text.strip()\n",
    "    \n",
    "    try:\n",
    "        moviedata['critic_concensus'] = mysoup1.find('div', 'consensus').p.text\n",
    "    except:\n",
    "        moviedata['critic_concensus'] = ''\n",
    "\n",
    "    cat = mysoup1.find_all('div', 'category-wrap')\n",
    "    cats = [x.text.strip().split('\\n\\n\\n') for x in cat]\n",
    "    for c in cats:\n",
    "        moviedata[c[0]] = c[1].replace('\\n', '')\n",
    "\n",
    "    return moviedata\n",
    "    "
   ]
  },
  {
   "cell_type": "code",
   "execution_count": 100,
   "metadata": {},
   "outputs": [],
   "source": [
    "rt_data = [moviescrape(x) for x in movielinks]"
   ]
  },
  {
   "cell_type": "code",
   "execution_count": 101,
   "metadata": {},
   "outputs": [],
   "source": [
    "rt_dataframe = pd.DataFrame.from_records(rt_data)"
   ]
  },
  {
   "cell_type": "code",
   "execution_count": 102,
   "metadata": {},
   "outputs": [
    {
     "data": {
      "text/html": [
       "<div>\n",
       "<style scoped>\n",
       "    .dataframe tbody tr th:only-of-type {\n",
       "        vertical-align: middle;\n",
       "    }\n",
       "\n",
       "    .dataframe tbody tr th {\n",
       "        vertical-align: top;\n",
       "    }\n",
       "\n",
       "    .dataframe thead th {\n",
       "        text-align: right;\n",
       "    }\n",
       "</style>\n",
       "<table border=\"1\" class=\"dataframe\">\n",
       "  <thead>\n",
       "    <tr style=\"text-align: right;\">\n",
       "      <th></th>\n",
       "      <th>title</th>\n",
       "      <th>description</th>\n",
       "      <th>critic_score</th>\n",
       "      <th>audience_score</th>\n",
       "      <th>critic_concensus</th>\n",
       "      <th>Director</th>\n",
       "      <th>Producer</th>\n",
       "      <th>Screenwriter</th>\n",
       "      <th>Distributor</th>\n",
       "      <th>Production Co</th>\n",
       "      <th>Genre</th>\n",
       "      <th>Original Language</th>\n",
       "      <th>Release Date (Theaters)</th>\n",
       "      <th>Release Date (Streaming)</th>\n",
       "      <th>Runtime</th>\n",
       "      <th>Rating</th>\n",
       "      <th>Box Office (Gross USA)</th>\n",
       "      <th>Sound Mix</th>\n",
       "      <th>Aspect Ratio</th>\n",
       "      <th>Rerelease Date (Theaters)</th>\n",
       "    </tr>\n",
       "  </thead>\n",
       "  <tbody>\n",
       "    <tr>\n",
       "      <th>0</th>\n",
       "      <td>A Man of Reason</td>\n",
       "      <td>After 10 years in the prison on behalf of his ...</td>\n",
       "      <td>14%</td>\n",
       "      <td>15%</td>\n",
       "      <td></td>\n",
       "      <td>Jung Woo-sung</td>\n",
       "      <td>Song Dae-chan</td>\n",
       "      <td>Jung Hae-sin, Jung Woo-sung</td>\n",
       "      <td>Epic Pictures</td>\n",
       "      <td>Studio Take</td>\n",
       "      <td>Action, Drama, Mystery &amp; Thriller</td>\n",
       "      <td>Korean</td>\n",
       "      <td>Jul 5, 2024, Limited</td>\n",
       "      <td>Jul 9, 2024</td>\n",
       "      <td>1h 37m</td>\n",
       "      <td>NaN</td>\n",
       "      <td>NaN</td>\n",
       "      <td>NaN</td>\n",
       "      <td>NaN</td>\n",
       "      <td>NaN</td>\n",
       "    </tr>\n",
       "    <tr>\n",
       "      <th>1</th>\n",
       "      <td>A Quiet Place: Day One</td>\n",
       "      <td>Experience the day the world went quiet.</td>\n",
       "      <td>87%</td>\n",
       "      <td>73%</td>\n",
       "      <td>Grounded in raw humanity by Lupita Nyong'o and...</td>\n",
       "      <td>Michael Sarnoski</td>\n",
       "      <td>Michael Bay, Andrew Form, Brad Fuller, John Kr...</td>\n",
       "      <td>Michael Sarnoski</td>\n",
       "      <td>Paramount Pictures</td>\n",
       "      <td>Platinum Dunes, Sunday Night</td>\n",
       "      <td>Horror, Sci-Fi, Mystery &amp; Thriller</td>\n",
       "      <td>English</td>\n",
       "      <td>Jun 28, 2024, Wide</td>\n",
       "      <td>NaN</td>\n",
       "      <td>1h 40m</td>\n",
       "      <td>PG-13 (Violent Content/Bloody Images|Terror)</td>\n",
       "      <td>$94.0M</td>\n",
       "      <td>Dolby Atmos, Dolby Digital</td>\n",
       "      <td>Digital 2.39:1</td>\n",
       "      <td>NaN</td>\n",
       "    </tr>\n",
       "    <tr>\n",
       "      <th>2</th>\n",
       "      <td>Babes</td>\n",
       "      <td>BABES follows inseparable childhood friends Ed...</td>\n",
       "      <td>91%</td>\n",
       "      <td>79%</td>\n",
       "      <td>Offering an uproariously unvarnished look at m...</td>\n",
       "      <td>Pamela Adlon</td>\n",
       "      <td>Ilana Glazer, Josh Rabinowitz, Susie Fox, Ashl...</td>\n",
       "      <td>Ilana Glazer, Josh Rabinowitz</td>\n",
       "      <td>Neon</td>\n",
       "      <td>FilmNation Entertainment, Starrpix, Range Medi...</td>\n",
       "      <td>Comedy</td>\n",
       "      <td>English</td>\n",
       "      <td>May 24, 2024, Wide</td>\n",
       "      <td>Jul 2, 2024</td>\n",
       "      <td>1h 44m</td>\n",
       "      <td>R (Language Throughout|Some Drug Use|Sexual Ma...</td>\n",
       "      <td>$3.7M</td>\n",
       "      <td>NaN</td>\n",
       "      <td>NaN</td>\n",
       "      <td>NaN</td>\n",
       "    </tr>\n",
       "    <tr>\n",
       "      <th>3</th>\n",
       "      <td>Bad Boys: Ride or Die</td>\n",
       "      <td>This Summer, the world's favorite Bad Boys are...</td>\n",
       "      <td>64%</td>\n",
       "      <td>97%</td>\n",
       "      <td>Will Smith and Martin Lawrence remain good com...</td>\n",
       "      <td>Adil El Arbi, Bilall Fallah</td>\n",
       "      <td>Jerry Bruckheimer, Will Smith, Chad Oman, Doug...</td>\n",
       "      <td>Chris Bremner</td>\n",
       "      <td>Columbia Pictures</td>\n",
       "      <td>Columbia Pictures, Westbrook Studios, Jerry Br...</td>\n",
       "      <td>Action, Comedy</td>\n",
       "      <td>English</td>\n",
       "      <td>Jun 7, 2024, Wide</td>\n",
       "      <td>NaN</td>\n",
       "      <td>1h 55m</td>\n",
       "      <td>R (Some Sexual References|Language Throughout|...</td>\n",
       "      <td>$177.5M</td>\n",
       "      <td>Dolby Atmos, Dolby Digital</td>\n",
       "      <td>Digital 2.39:1</td>\n",
       "      <td>NaN</td>\n",
       "    </tr>\n",
       "    <tr>\n",
       "      <th>4</th>\n",
       "      <td>Banel &amp; Adama</td>\n",
       "      <td>Banel and Adama are fiercely in love. The youn...</td>\n",
       "      <td>95%</td>\n",
       "      <td></td>\n",
       "      <td></td>\n",
       "      <td>Ramata-Toulaye Sy</td>\n",
       "      <td>Éric Névé, Maud Leclair, Andrey Samoute Diarra...</td>\n",
       "      <td>Ramata-Toulaye Sy</td>\n",
       "      <td>Kino Lorber</td>\n",
       "      <td>La Chauve Souris, arte France Cinéma, Astou Films</td>\n",
       "      <td>Drama</td>\n",
       "      <td>French (France)</td>\n",
       "      <td>Jun 7, 2024, Limited</td>\n",
       "      <td>Aug 6, 2024</td>\n",
       "      <td>1h 27m</td>\n",
       "      <td>NaN</td>\n",
       "      <td>$38.5K</td>\n",
       "      <td>NaN</td>\n",
       "      <td>NaN</td>\n",
       "      <td>NaN</td>\n",
       "    </tr>\n",
       "    <tr>\n",
       "      <th>...</th>\n",
       "      <td>...</td>\n",
       "      <td>...</td>\n",
       "      <td>...</td>\n",
       "      <td>...</td>\n",
       "      <td>...</td>\n",
       "      <td>...</td>\n",
       "      <td>...</td>\n",
       "      <td>...</td>\n",
       "      <td>...</td>\n",
       "      <td>...</td>\n",
       "      <td>...</td>\n",
       "      <td>...</td>\n",
       "      <td>...</td>\n",
       "      <td>...</td>\n",
       "      <td>...</td>\n",
       "      <td>...</td>\n",
       "      <td>...</td>\n",
       "      <td>...</td>\n",
       "      <td>...</td>\n",
       "      <td>...</td>\n",
       "    </tr>\n",
       "    <tr>\n",
       "      <th>71</th>\n",
       "      <td>The Strangers: Chapter 1</td>\n",
       "      <td>After their car breaks down in an eerie small ...</td>\n",
       "      <td>21%</td>\n",
       "      <td>44%</td>\n",
       "      <td>Lacking the chilling suspense of the original ...</td>\n",
       "      <td>Renny Harlin</td>\n",
       "      <td>Courtney Solomon, Mark Canton, Christopher Mil...</td>\n",
       "      <td>Alan R. Cohen, Alan Freedland, Bryan Bertino</td>\n",
       "      <td>Lionsgate</td>\n",
       "      <td>Fifth Element Productions</td>\n",
       "      <td>Horror, Mystery &amp; Thriller</td>\n",
       "      <td>English</td>\n",
       "      <td>May 17, 2024, Wide</td>\n",
       "      <td>Jun 7, 2024</td>\n",
       "      <td>1h 31m</td>\n",
       "      <td>R (Language|Horror Violence|Brief Drug Use)</td>\n",
       "      <td>$35.1M</td>\n",
       "      <td>NaN</td>\n",
       "      <td>Digital 2.39:1</td>\n",
       "      <td>NaN</td>\n",
       "    </tr>\n",
       "    <tr>\n",
       "      <th>72</th>\n",
       "      <td>The Watchers (2024)</td>\n",
       "      <td>The Watchers follows Mina, a 28-year old artis...</td>\n",
       "      <td>32%</td>\n",
       "      <td>52%</td>\n",
       "      <td>Heavy on eerie mood but undone by an obtuse sc...</td>\n",
       "      <td>Ishana Shyamalan</td>\n",
       "      <td>M. Night Shyamalan, Ashwin Rajan, Nimitt Mankad</td>\n",
       "      <td>Ishana Shyamalan</td>\n",
       "      <td>Warner Bros. Pictures</td>\n",
       "      <td>New Line Cinema, Inimitable Pictures, Blinding...</td>\n",
       "      <td>Horror, Mystery &amp; Thriller</td>\n",
       "      <td>English</td>\n",
       "      <td>Jun 7, 2024, Wide</td>\n",
       "      <td>Jun 28, 2024</td>\n",
       "      <td>1h 42m</td>\n",
       "      <td>PG-13 (Violence|Terror|Some Thematic Elements)</td>\n",
       "      <td>$19.1M</td>\n",
       "      <td>Dolby Digital</td>\n",
       "      <td>Flat (1.85:1)</td>\n",
       "      <td>NaN</td>\n",
       "    </tr>\n",
       "    <tr>\n",
       "      <th>73</th>\n",
       "      <td>Thelma (2024)</td>\n",
       "      <td>Inspired by a real-life experience of director...</td>\n",
       "      <td>99%</td>\n",
       "      <td>83%</td>\n",
       "      <td>A stellar showcase for the talented June Squib...</td>\n",
       "      <td>Josh Margolin</td>\n",
       "      <td>Zoë Worth, Chris Kaye, Nicholas Weinstock, Ben...</td>\n",
       "      <td>Josh Margolin</td>\n",
       "      <td>Magnolia Pictures</td>\n",
       "      <td>Bandwagon, Zurich Avenue, Invention Studios</td>\n",
       "      <td>Comedy, Action</td>\n",
       "      <td>English</td>\n",
       "      <td>Jun 21, 2024, Wide</td>\n",
       "      <td>NaN</td>\n",
       "      <td>1h 37m</td>\n",
       "      <td>PG-13 (Strong Language)</td>\n",
       "      <td>$6.9M</td>\n",
       "      <td>NaN</td>\n",
       "      <td>NaN</td>\n",
       "      <td>NaN</td>\n",
       "    </tr>\n",
       "    <tr>\n",
       "      <th>74</th>\n",
       "      <td>Touch (2024)</td>\n",
       "      <td>A romantic and thrilling story that spans seve...</td>\n",
       "      <td>100%</td>\n",
       "      <td></td>\n",
       "      <td></td>\n",
       "      <td>Baltasar Kormákur</td>\n",
       "      <td>Baltasar Kormákur, Agnes Johansen, Mike Goodridge</td>\n",
       "      <td>Baltasar Kormákur, Ólaf Ólafsson</td>\n",
       "      <td>Focus Features</td>\n",
       "      <td>RVK Studios, Good Chaos</td>\n",
       "      <td>Romance, Drama</td>\n",
       "      <td>English</td>\n",
       "      <td>Jul 12, 2024, Limited</td>\n",
       "      <td>NaN</td>\n",
       "      <td>2h 1m</td>\n",
       "      <td>R (Some Sexuality)</td>\n",
       "      <td>NaN</td>\n",
       "      <td>NaN</td>\n",
       "      <td>NaN</td>\n",
       "      <td>NaN</td>\n",
       "    </tr>\n",
       "    <tr>\n",
       "      <th>75</th>\n",
       "      <td>Wicked Little Letters</td>\n",
       "      <td>A 1920s English seaside town bears witness to ...</td>\n",
       "      <td>80%</td>\n",
       "      <td>92%</td>\n",
       "      <td>Thanks largely to a strong cast that leans int...</td>\n",
       "      <td>Thea Sharrock</td>\n",
       "      <td>Graham Broadbent, Peter Czernin, Ed Sinclair, ...</td>\n",
       "      <td>Jonny Sweet</td>\n",
       "      <td>Sony Pictures Classics</td>\n",
       "      <td>Blueprint Pictures, South of the River Pictures</td>\n",
       "      <td>Comedy, History, Mystery &amp; Thriller</td>\n",
       "      <td>English</td>\n",
       "      <td>Apr 5, 2024, Wide</td>\n",
       "      <td>May 7, 2024</td>\n",
       "      <td>1h 42m</td>\n",
       "      <td>R (Sexual Material|Language Throughout)</td>\n",
       "      <td>$5.0M</td>\n",
       "      <td>Dolby Digital</td>\n",
       "      <td>Flat (1.85:1)</td>\n",
       "      <td>NaN</td>\n",
       "    </tr>\n",
       "  </tbody>\n",
       "</table>\n",
       "<p>76 rows × 20 columns</p>\n",
       "</div>"
      ],
      "text/plain": [
       "                       title  \\\n",
       "0            A Man of Reason   \n",
       "1     A Quiet Place: Day One   \n",
       "2                      Babes   \n",
       "3      Bad Boys: Ride or Die   \n",
       "4              Banel & Adama   \n",
       "..                       ...   \n",
       "71  The Strangers: Chapter 1   \n",
       "72       The Watchers (2024)   \n",
       "73             Thelma (2024)   \n",
       "74              Touch (2024)   \n",
       "75     Wicked Little Letters   \n",
       "\n",
       "                                          description critic_score  \\\n",
       "0   After 10 years in the prison on behalf of his ...          14%   \n",
       "1            Experience the day the world went quiet.          87%   \n",
       "2   BABES follows inseparable childhood friends Ed...          91%   \n",
       "3   This Summer, the world's favorite Bad Boys are...          64%   \n",
       "4   Banel and Adama are fiercely in love. The youn...          95%   \n",
       "..                                                ...          ...   \n",
       "71  After their car breaks down in an eerie small ...          21%   \n",
       "72  The Watchers follows Mina, a 28-year old artis...          32%   \n",
       "73  Inspired by a real-life experience of director...          99%   \n",
       "74  A romantic and thrilling story that spans seve...         100%   \n",
       "75  A 1920s English seaside town bears witness to ...          80%   \n",
       "\n",
       "   audience_score                                   critic_concensus  \\\n",
       "0             15%                                                      \n",
       "1             73%  Grounded in raw humanity by Lupita Nyong'o and...   \n",
       "2             79%  Offering an uproariously unvarnished look at m...   \n",
       "3             97%  Will Smith and Martin Lawrence remain good com...   \n",
       "4                                                                      \n",
       "..            ...                                                ...   \n",
       "71            44%  Lacking the chilling suspense of the original ...   \n",
       "72            52%  Heavy on eerie mood but undone by an obtuse sc...   \n",
       "73            83%  A stellar showcase for the talented June Squib...   \n",
       "74                                                                     \n",
       "75            92%  Thanks largely to a strong cast that leans int...   \n",
       "\n",
       "                       Director  \\\n",
       "0                 Jung Woo-sung   \n",
       "1              Michael Sarnoski   \n",
       "2                  Pamela Adlon   \n",
       "3   Adil El Arbi, Bilall Fallah   \n",
       "4             Ramata-Toulaye Sy   \n",
       "..                          ...   \n",
       "71                 Renny Harlin   \n",
       "72             Ishana Shyamalan   \n",
       "73                Josh Margolin   \n",
       "74            Baltasar Kormákur   \n",
       "75                Thea Sharrock   \n",
       "\n",
       "                                             Producer  \\\n",
       "0                                       Song Dae-chan   \n",
       "1   Michael Bay, Andrew Form, Brad Fuller, John Kr...   \n",
       "2   Ilana Glazer, Josh Rabinowitz, Susie Fox, Ashl...   \n",
       "3   Jerry Bruckheimer, Will Smith, Chad Oman, Doug...   \n",
       "4   Éric Névé, Maud Leclair, Andrey Samoute Diarra...   \n",
       "..                                                ...   \n",
       "71  Courtney Solomon, Mark Canton, Christopher Mil...   \n",
       "72    M. Night Shyamalan, Ashwin Rajan, Nimitt Mankad   \n",
       "73  Zoë Worth, Chris Kaye, Nicholas Weinstock, Ben...   \n",
       "74  Baltasar Kormákur, Agnes Johansen, Mike Goodridge   \n",
       "75  Graham Broadbent, Peter Czernin, Ed Sinclair, ...   \n",
       "\n",
       "                                    Screenwriter             Distributor  \\\n",
       "0                    Jung Hae-sin, Jung Woo-sung           Epic Pictures   \n",
       "1                               Michael Sarnoski      Paramount Pictures   \n",
       "2                  Ilana Glazer, Josh Rabinowitz                    Neon   \n",
       "3                                  Chris Bremner       Columbia Pictures   \n",
       "4                              Ramata-Toulaye Sy             Kino Lorber   \n",
       "..                                           ...                     ...   \n",
       "71  Alan R. Cohen, Alan Freedland, Bryan Bertino               Lionsgate   \n",
       "72                              Ishana Shyamalan   Warner Bros. Pictures   \n",
       "73                                 Josh Margolin       Magnolia Pictures   \n",
       "74              Baltasar Kormákur, Ólaf Ólafsson          Focus Features   \n",
       "75                                   Jonny Sweet  Sony Pictures Classics   \n",
       "\n",
       "                                        Production Co  \\\n",
       "0                                         Studio Take   \n",
       "1                        Platinum Dunes, Sunday Night   \n",
       "2   FilmNation Entertainment, Starrpix, Range Medi...   \n",
       "3   Columbia Pictures, Westbrook Studios, Jerry Br...   \n",
       "4   La Chauve Souris, arte France Cinéma, Astou Films   \n",
       "..                                                ...   \n",
       "71                          Fifth Element Productions   \n",
       "72  New Line Cinema, Inimitable Pictures, Blinding...   \n",
       "73        Bandwagon, Zurich Avenue, Invention Studios   \n",
       "74                            RVK Studios, Good Chaos   \n",
       "75    Blueprint Pictures, South of the River Pictures   \n",
       "\n",
       "                                  Genre Original Language  \\\n",
       "0     Action, Drama, Mystery & Thriller            Korean   \n",
       "1    Horror, Sci-Fi, Mystery & Thriller           English   \n",
       "2                                Comedy           English   \n",
       "3                        Action, Comedy           English   \n",
       "4                                 Drama   French (France)   \n",
       "..                                  ...               ...   \n",
       "71           Horror, Mystery & Thriller           English   \n",
       "72           Horror, Mystery & Thriller           English   \n",
       "73                       Comedy, Action           English   \n",
       "74                       Romance, Drama           English   \n",
       "75  Comedy, History, Mystery & Thriller           English   \n",
       "\n",
       "   Release Date (Theaters) Release Date (Streaming) Runtime  \\\n",
       "0     Jul 5, 2024, Limited              Jul 9, 2024  1h 37m   \n",
       "1       Jun 28, 2024, Wide                      NaN  1h 40m   \n",
       "2       May 24, 2024, Wide              Jul 2, 2024  1h 44m   \n",
       "3        Jun 7, 2024, Wide                      NaN  1h 55m   \n",
       "4     Jun 7, 2024, Limited              Aug 6, 2024  1h 27m   \n",
       "..                     ...                      ...     ...   \n",
       "71      May 17, 2024, Wide              Jun 7, 2024  1h 31m   \n",
       "72       Jun 7, 2024, Wide             Jun 28, 2024  1h 42m   \n",
       "73      Jun 21, 2024, Wide                      NaN  1h 37m   \n",
       "74   Jul 12, 2024, Limited                      NaN   2h 1m   \n",
       "75       Apr 5, 2024, Wide              May 7, 2024  1h 42m   \n",
       "\n",
       "                                               Rating Box Office (Gross USA)  \\\n",
       "0                                                 NaN                    NaN   \n",
       "1        PG-13 (Violent Content/Bloody Images|Terror)                 $94.0M   \n",
       "2   R (Language Throughout|Some Drug Use|Sexual Ma...                  $3.7M   \n",
       "3   R (Some Sexual References|Language Throughout|...                $177.5M   \n",
       "4                                                 NaN                 $38.5K   \n",
       "..                                                ...                    ...   \n",
       "71        R (Language|Horror Violence|Brief Drug Use)                 $35.1M   \n",
       "72     PG-13 (Violence|Terror|Some Thematic Elements)                 $19.1M   \n",
       "73                            PG-13 (Strong Language)                  $6.9M   \n",
       "74                                 R (Some Sexuality)                    NaN   \n",
       "75            R (Sexual Material|Language Throughout)                  $5.0M   \n",
       "\n",
       "                     Sound Mix    Aspect Ratio Rerelease Date (Theaters)  \n",
       "0                          NaN             NaN                       NaN  \n",
       "1   Dolby Atmos, Dolby Digital  Digital 2.39:1                       NaN  \n",
       "2                          NaN             NaN                       NaN  \n",
       "3   Dolby Atmos, Dolby Digital  Digital 2.39:1                       NaN  \n",
       "4                          NaN             NaN                       NaN  \n",
       "..                         ...             ...                       ...  \n",
       "71                         NaN  Digital 2.39:1                       NaN  \n",
       "72               Dolby Digital   Flat (1.85:1)                       NaN  \n",
       "73                         NaN             NaN                       NaN  \n",
       "74                         NaN             NaN                       NaN  \n",
       "75               Dolby Digital   Flat (1.85:1)                       NaN  \n",
       "\n",
       "[76 rows x 20 columns]"
      ]
     },
     "execution_count": 102,
     "metadata": {},
     "output_type": "execute_result"
    }
   ],
   "source": [
    "rt_dataframe"
   ]
  },
  {
   "cell_type": "code",
   "execution_count": null,
   "metadata": {},
   "outputs": [],
   "source": []
  }
 ],
 "metadata": {
  "kernelspec": {
   "display_name": "Python 3",
   "language": "python",
   "name": "python3"
  },
  "language_info": {
   "codemirror_mode": {
    "name": "ipython",
    "version": 3
   },
   "file_extension": ".py",
   "mimetype": "text/x-python",
   "name": "python",
   "nbconvert_exporter": "python",
   "pygments_lexer": "ipython3",
   "version": "3.11.9"
  }
 },
 "nbformat": 4,
 "nbformat_minor": 2
}
