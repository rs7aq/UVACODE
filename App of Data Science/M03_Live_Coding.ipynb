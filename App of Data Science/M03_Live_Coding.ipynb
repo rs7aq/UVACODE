{
 "cells": [
  {
   "cell_type": "code",
   "execution_count": 51,
   "metadata": {},
   "outputs": [],
   "source": [
    "import numpy as np\n",
    "import pandas as pd\n",
    "import json \n",
    "import requests"
   ]
  },
  {
   "cell_type": "code",
   "execution_count": 52,
   "metadata": {},
   "outputs": [],
   "source": [
    "# JSON - Java Script Object Notation\n",
    "\n",
    "# User - agent string: some text that describes a system we are using to access the web page. \n",
    "# Generally good etiquitte to supply your user agent string as a \"header\" in a HTTP call"
   ]
  },
  {
   "cell_type": "code",
   "execution_count": 53,
   "metadata": {},
   "outputs": [
    {
     "data": {
      "text/plain": [
       "<Response [200]>"
      ]
     },
     "execution_count": 53,
     "metadata": {},
     "output_type": "execute_result"
    }
   ],
   "source": [
    "url = 'https://httpbin.org/user-agent'\n",
    "\n",
    "r = requests.get(url)\n",
    "r"
   ]
  },
  {
   "cell_type": "code",
   "execution_count": 54,
   "metadata": {},
   "outputs": [
    {
     "data": {
      "text/plain": [
       "'{\\n  \"user-agent\": \"python-requests/2.31.0\"\\n}\\n'"
      ]
     },
     "execution_count": 54,
     "metadata": {},
     "output_type": "execute_result"
    }
   ],
   "source": [
    "r.text"
   ]
  },
  {
   "cell_type": "code",
   "execution_count": 55,
   "metadata": {},
   "outputs": [],
   "source": [
    "# The four key methods in JSON package\n",
    "# loads - convert string in Python kernal to dictionary/lists \n",
    "# load - load a text file and store it as dictionaries/lists\n",
    "# dumps - convert a dictionary/list in Python kernal to string\n",
    "# dump - load dictionary/list in Python kernal to text file\n",
    "# need to take string and have it understood as JSON"
   ]
  },
  {
   "cell_type": "code",
   "execution_count": 56,
   "metadata": {},
   "outputs": [],
   "source": [
    "myjson = json.loads(r.text)\n",
    "useragent = myjson['user-agent']\n",
    "\n",
    "headers = {'User-Agent': useragent} \n",
    "           #'From': 'firstinweather@gmail.com'}"
   ]
  },
  {
   "cell_type": "markdown",
   "metadata": {},
   "source": [
    "### Cocktail DB"
   ]
  },
  {
   "cell_type": "code",
   "execution_count": 57,
   "metadata": {},
   "outputs": [],
   "source": [
    "# https://jsonhero.io/\n",
    "# don't know who owns this website, so don't pass confidential JSON info into it "
   ]
  },
  {
   "cell_type": "code",
   "execution_count": 58,
   "metadata": {},
   "outputs": [
    {
     "data": {
      "text/plain": [
       "<Response [200]>"
      ]
     },
     "execution_count": 58,
     "metadata": {},
     "output_type": "execute_result"
    }
   ],
   "source": [
    "url = 'http://www.thecocktaildb.com/api/json/v1/1/filter.php?c=Cocktail'\n",
    "r = requests.get(url, headers = headers)\n",
    "r"
   ]
  },
  {
   "cell_type": "code",
   "execution_count": 59,
   "metadata": {},
   "outputs": [
    {
     "name": "stdout",
     "output_type": "stream",
     "text": [
      "{'drinks': [{'strDrink': '155 Belmont', 'strDrinkThumb': 'https://www.thecocktaildb.com/images/media/drink/yqvvqs1475667388.jpg', 'idDrink': '15346'}, {'strDrink': '57 Chevy with a White License Plate', 'strDrinkThumb': 'https://www.thecocktaildb.com/images/media/drink/qyyvtu1468878544.jpg', 'idDrink': '14029'}, {'strDrink': '747 Drink', 'strDrinkThumb': 'https://www.thecocktaildb.com/images/media/drink/i9suxb1582474926.jpg', 'idDrink': '178318'}, {'strDrink': '9 1/2 Weeks', 'strDrinkThumb': 'https://www.thecocktaildb.com/images/media/drink/xvwusr1472669302.jpg', 'idDrink': '16108'}, {'strDrink': \"A Gilligan's Island\", 'strDrinkThumb': 'https://www.thecocktaildb.com/images/media/drink/wysqut1461867176.jpg', 'idDrink': '16943'}, {'strDrink': 'A True Amaretto Sour', 'strDrinkThumb': 'https://www.thecocktaildb.com/images/media/drink/rptuxy1472669372.jpg', 'idDrink': '17005'}, {'strDrink': 'A.D.M. (After Dinner Mint)', 'strDrinkThumb': 'https://www.thecocktaildb.com/images/media/drink/ruxuvp1472669600.jpg', 'idDrink': '14560'}, {'strDrink': 'A1', 'strDrinkThumb': 'https://www.thecocktaildb.com/images/media/drink/2x8thr1504816928.jpg', 'idDrink': '17222'}, {'strDrink': 'Abbey Martini', 'strDrinkThumb': 'https://www.thecocktaildb.com/images/media/drink/2mcozt1504817403.jpg', 'idDrink': '17223'}, {'strDrink': 'Absolut Summertime', 'strDrinkThumb': 'https://www.thecocktaildb.com/images/media/drink/trpxxs1472669662.jpg', 'idDrink': '14107'}, {'strDrink': 'Absolutely Fabulous', 'strDrinkThumb': 'https://www.thecocktaildb.com/images/media/drink/abcpwr1504817734.jpg', 'idDrink': '17224'}, {'strDrink': 'Absolutly Screwed Up', 'strDrinkThumb': 'https://www.thecocktaildb.com/images/media/drink/yvxrwv1472669728.jpg', 'idDrink': '16134'}, {'strDrink': 'Ace', 'strDrinkThumb': 'https://www.thecocktaildb.com/images/media/drink/l3cd7f1504818306.jpg', 'idDrink': '17225'}, {'strDrink': 'Adam & Eve', 'strDrinkThumb': 'https://www.thecocktaildb.com/images/media/drink/vfeumw1504819077.jpg', 'idDrink': '17226'}, {'strDrink': 'Addington', 'strDrinkThumb': 'https://www.thecocktaildb.com/images/media/drink/ib0b7g1504818925.jpg', 'idDrink': '17227'}, {'strDrink': 'Addison', 'strDrinkThumb': 'https://www.thecocktaildb.com/images/media/drink/yzva7x1504820300.jpg', 'idDrink': '17228'}, {'strDrink': 'Addison Special', 'strDrinkThumb': 'https://www.thecocktaildb.com/images/media/drink/4vo5651493068493.jpg', 'idDrink': '14272'}, {'strDrink': 'Adios Amigos Cocktail', 'strDrinkThumb': 'https://www.thecocktaildb.com/images/media/drink/8nk2mp1504819893.jpg', 'idDrink': '17229'}, {'strDrink': 'Afterglow', 'strDrinkThumb': 'https://www.thecocktaildb.com/images/media/drink/vuquyv1468876052.jpg', 'idDrink': '12560'}, {'strDrink': 'Alice Cocktail', 'strDrinkThumb': 'https://www.thecocktaildb.com/images/media/drink/qyqtpv1468876144.jpg', 'idDrink': '12562'}, {'strDrink': 'Amaretto fizz', 'strDrinkThumb': 'https://www.thecocktaildb.com/images/media/drink/92h3jz1582474310.jpg', 'idDrink': '178321'}, {'strDrink': 'Aperol Spritz', 'strDrinkThumb': 'https://www.thecocktaildb.com/images/media/drink/iloasq1587661955.jpg', 'idDrink': '178325'}, {'strDrink': 'Apple Highball', 'strDrinkThumb': 'https://www.thecocktaildb.com/images/media/drink/66mt9b1619695719.jpg', 'idDrink': '178353'}, {'strDrink': 'Apple Karate', 'strDrinkThumb': 'https://www.thecocktaildb.com/images/media/drink/syusvw1468876634.jpg', 'idDrink': '12564'}, {'strDrink': 'Applejack', 'strDrinkThumb': 'https://www.thecocktaildb.com/images/media/drink/sutyqp1479209062.jpg', 'idDrink': '16311'}, {'strDrink': 'Aquamarine', 'strDrinkThumb': 'https://www.thecocktaildb.com/images/media/drink/zvsre31572902738.jpg', 'idDrink': '178319'}, {'strDrink': 'Arizona Stingers', 'strDrinkThumb': 'https://www.thecocktaildb.com/images/media/drink/y7w0721493068255.jpg', 'idDrink': '14584'}, {'strDrink': 'Arizona Twister', 'strDrinkThumb': 'https://www.thecocktaildb.com/images/media/drink/ido1j01493068134.jpg', 'idDrink': '17074'}, {'strDrink': 'Army special', 'strDrinkThumb': 'https://www.thecocktaildb.com/images/media/drink/55muhh1493068062.jpg', 'idDrink': '17066'}, {'strDrink': 'Autumn Garibaldi', 'strDrinkThumb': 'https://www.thecocktaildb.com/images/media/drink/ne7re71604179012.jpg', 'idDrink': '178337'}, {'strDrink': 'Aviation', 'strDrinkThumb': 'https://www.thecocktaildb.com/images/media/drink/trbplb1606855233.jpg', 'idDrink': '17180'}, {'strDrink': 'Bahama Mama', 'strDrinkThumb': 'https://www.thecocktaildb.com/images/media/drink/tyb4a41515793339.jpg', 'idDrink': '17267'}, {'strDrink': 'Banana Cream Pi', 'strDrinkThumb': 'https://www.thecocktaildb.com/images/media/drink/m5p67n1582474609.jpg', 'idDrink': '178320'}, {'strDrink': \"Bee's Knees\", 'strDrinkThumb': 'https://www.thecocktaildb.com/images/media/drink/tx8ne41582475326.jpg', 'idDrink': '178317'}, {'strDrink': 'Bijou', 'strDrinkThumb': 'https://www.thecocktaildb.com/images/media/drink/rysb3r1513706985.jpg', 'idDrink': '17254'}, {'strDrink': 'Blue Hurricane', 'strDrinkThumb': 'https://www.thecocktaildb.com/images/media/drink/nwx02s1515795822.jpg', 'idDrink': '17268'}, {'strDrink': 'Blueberry Mojito', 'strDrinkThumb': 'https://www.thecocktaildb.com/images/media/drink/07iep51598719977.jpg', 'idDrink': '178336'}, {'strDrink': 'Bombay Cassis', 'strDrinkThumb': 'https://www.thecocktaildb.com/images/media/drink/h1e0e51510136907.jpg', 'idDrink': '17242'}, {'strDrink': 'Bora Bora', 'strDrinkThumb': 'https://www.thecocktaildb.com/images/media/drink/xwuqvw1473201811.jpg', 'idDrink': '12572'}, {'strDrink': 'Boulevardier', 'strDrinkThumb': 'https://www.thecocktaildb.com/images/media/drink/km84qi1513705868.jpg', 'idDrink': '17251'}, {'strDrink': 'Bounty Hunter', 'strDrinkThumb': 'https://www.thecocktaildb.com/images/media/drink/t8bgxl1596018175.jpg', 'idDrink': '178331'}, {'strDrink': 'Brigadier', 'strDrinkThumb': 'https://www.thecocktaildb.com/images/media/drink/nl89tf1518947401.jpg', 'idDrink': '17825'}, {'strDrink': 'Broadside', 'strDrinkThumb': 'https://www.thecocktaildb.com/images/media/drink/l2o6xu1582476870.jpg', 'idDrink': '178311'}, {'strDrink': 'Brooklyn', 'strDrinkThumb': 'https://www.thecocktaildb.com/images/media/drink/ojsezf1582477277.jpg', 'idDrink': '178310'}, {'strDrink': 'Butterfly Effect', 'strDrinkThumb': 'https://www.thecocktaildb.com/images/media/drink/ht3hnk1619704289.jpg', 'idDrink': '178356'}, {'strDrink': \"Captain Kidd's Punch\", 'strDrinkThumb': 'https://www.thecocktaildb.com/images/media/drink/d83spj1596017390.jpg', 'idDrink': '178329'}, {'strDrink': 'Cherry Electric Lemonade', 'strDrinkThumb': 'https://www.thecocktaildb.com/images/media/drink/tquyyt1451299548.jpg', 'idDrink': '17174'}, {'strDrink': 'Cocktail Horse’s Neck', 'strDrinkThumb': 'https://www.thecocktaildb.com/images/media/drink/4vobt21643844913.jpg', 'idDrink': '178369'}, {'strDrink': 'Corn n Oil', 'strDrinkThumb': 'https://www.thecocktaildb.com/images/media/drink/pk6dwi1592767243.jpg', 'idDrink': '17830'}, {'strDrink': 'Corpse Reviver', 'strDrinkThumb': 'https://www.thecocktaildb.com/images/media/drink/gifgao1513704334.jpg', 'idDrink': '17250'}, {'strDrink': 'Cosmopolitan', 'strDrinkThumb': 'https://www.thecocktaildb.com/images/media/drink/kpsajh1504368362.jpg', 'idDrink': '17196'}, {'strDrink': 'Cosmopolitan Martini', 'strDrinkThumb': 'https://www.thecocktaildb.com/images/media/drink/upxxpq1439907580.jpg', 'idDrink': '14133'}, {'strDrink': 'Cream Soda', 'strDrinkThumb': 'https://www.thecocktaildb.com/images/media/drink/yqstxr1479209367.jpg', 'idDrink': '14608'}, {'strDrink': 'Dark Caipirinha', 'strDrinkThumb': 'https://www.thecocktaildb.com/images/media/drink/uwstrx1472406058.jpg', 'idDrink': '17177'}, {'strDrink': 'Death in the Afternoon', 'strDrinkThumb': 'https://www.thecocktaildb.com/images/media/drink/y7s3rh1598719574.jpg', 'idDrink': '178334'}, {'strDrink': 'Dirty Martini', 'strDrinkThumb': 'https://www.thecocktaildb.com/images/media/drink/vcyvpq1485083300.jpg', 'idDrink': '17181'}, {'strDrink': 'Dry Martini', 'strDrinkThumb': 'https://www.thecocktaildb.com/images/media/drink/6ck9yi1589574317.jpg', 'idDrink': '11005'}, {'strDrink': \"Duchamp's Punch\", 'strDrinkThumb': 'https://www.thecocktaildb.com/images/media/drink/g51naw1485084685.jpg', 'idDrink': '17182'}, {'strDrink': 'Elderflower Caipirinha', 'strDrinkThumb': 'https://www.thecocktaildb.com/images/media/drink/dif7a31614006331.jpg', 'idDrink': '178346'}, {'strDrink': \"Empellón Cocina's Fat-Washed Mezcal\", 'strDrinkThumb': 'https://www.thecocktaildb.com/images/media/drink/osgvxt1513595509.jpg', 'idDrink': '17246'}, {'strDrink': 'Espresso Martini', 'strDrinkThumb': 'https://www.thecocktaildb.com/images/media/drink/n0sx531504372951.jpg', 'idDrink': '17212'}, {'strDrink': 'Espresso Rumtini', 'strDrinkThumb': 'https://www.thecocktaildb.com/images/media/drink/acvf171561574403.jpg', 'idDrink': '178309'}, {'strDrink': 'Figgy Thyme', 'strDrinkThumb': 'https://www.thecocktaildb.com/images/media/drink/pbw4e51606766578.jpg', 'idDrink': '178344'}, {'strDrink': 'Flaming Lamborghini', 'strDrinkThumb': 'https://www.thecocktaildb.com/images/media/drink/yywpss1461866587.jpg', 'idDrink': '16485'}, {'strDrink': 'French Martini', 'strDrinkThumb': 'https://www.thecocktaildb.com/images/media/drink/clth721504373134.jpg', 'idDrink': '17213'}, {'strDrink': 'French Negroni', 'strDrinkThumb': 'https://www.thecocktaildb.com/images/media/drink/x8lhp41513703167.jpg', 'idDrink': '17248'}, {'strDrink': 'Frosé', 'strDrinkThumb': 'https://www.thecocktaildb.com/images/media/drink/b4cadp1619695347.jpg', 'idDrink': '178352'}, {'strDrink': 'Funk and Soul', 'strDrinkThumb': 'https://www.thecocktaildb.com/images/media/drink/qtv83q1596015790.jpg', 'idDrink': '178328'}, {'strDrink': 'Gagliardo', 'strDrinkThumb': 'https://www.thecocktaildb.com/images/media/drink/lyloe91487602877.jpg', 'idDrink': '12758'}, {'strDrink': 'Garibaldi Negroni', 'strDrinkThumb': 'https://www.thecocktaildb.com/images/media/drink/kb4bjg1604179771.jpg', 'idDrink': '178340'}, {'strDrink': 'Gimlet', 'strDrinkThumb': 'https://www.thecocktaildb.com/images/media/drink/3xgldt1513707271.jpg', 'idDrink': '17255'}, {'strDrink': 'Gin and Soda', 'strDrinkThumb': 'https://www.thecocktaildb.com/images/media/drink/nzlyc81605905755.jpg', 'idDrink': '178342'}, {'strDrink': 'Gin Basil Smash', 'strDrinkThumb': 'https://www.thecocktaildb.com/images/media/drink/jqh2141572807327.jpg', 'idDrink': '178314'}, {'strDrink': 'Gin Lemon', 'strDrinkThumb': 'https://www.thecocktaildb.com/images/media/drink/6gdohq1681212476.jpg', 'idDrink': '178366'}, {'strDrink': 'Gin Rickey', 'strDrinkThumb': 'https://www.thecocktaildb.com/images/media/drink/s00d6f1504883945.jpg', 'idDrink': '17230'}, {'strDrink': 'Gin Tonic', 'strDrinkThumb': 'https://www.thecocktaildb.com/images/media/drink/qcgz0t1643821443.jpg', 'idDrink': '178365'}, {'strDrink': 'Greyhound', 'strDrinkThumb': 'https://www.thecocktaildb.com/images/media/drink/g5upn41513706732.jpg', 'idDrink': '17252'}, {'strDrink': 'Honey Bee', 'strDrinkThumb': 'https://www.thecocktaildb.com/images/media/drink/vu8l7t1582475673.jpg', 'idDrink': '178316'}, {'strDrink': 'Hot Toddy', 'strDrinkThumb': 'https://www.thecocktaildb.com/images/media/drink/ggx0lv1613942306.jpg', 'idDrink': '178345'}, {'strDrink': \"Hunter's Moon\", 'strDrinkThumb': 'https://www.thecocktaildb.com/images/media/drink/t0iugg1509556712.jpg', 'idDrink': '17239'}, {'strDrink': 'Imperial Cocktail', 'strDrinkThumb': 'https://www.thecocktaildb.com/images/media/drink/bcsj2e1487603625.jpg', 'idDrink': '12706'}, {'strDrink': 'Irish Curdling Cow', 'strDrinkThumb': 'https://www.thecocktaildb.com/images/media/drink/yrhutv1503563730.jpg', 'idDrink': '16987'}, {'strDrink': 'Jitterbug', 'strDrinkThumb': 'https://www.thecocktaildb.com/images/media/drink/wwqvrq1441245318.jpg', 'idDrink': '16178'}, {'strDrink': 'Kiwi Martini', 'strDrinkThumb': 'https://www.thecocktaildb.com/images/media/drink/bmxmyq1630407098.jpg', 'idDrink': '178359'}, {'strDrink': 'Lazy Coconut Paloma', 'strDrinkThumb': 'https://www.thecocktaildb.com/images/media/drink/rytuex1598719770.jpg', 'idDrink': '178335'}, {'strDrink': 'Lemon Drop', 'strDrinkThumb': 'https://www.thecocktaildb.com/images/media/drink/mtpxgk1504373297.jpg', 'idDrink': '14366'}, {'strDrink': 'Lemon Elderflower Spritzer', 'strDrinkThumb': 'https://www.thecocktaildb.com/images/media/drink/125w0o1630407389.jpg', 'idDrink': '178360'}, {'strDrink': 'Malibu Twister', 'strDrinkThumb': 'https://www.thecocktaildb.com/images/media/drink/2dwae41504885321.jpg', 'idDrink': '15224'}, {'strDrink': 'Mango Mojito', 'strDrinkThumb': 'https://www.thecocktaildb.com/images/media/drink/wfqmgm1630406820.jpg', 'idDrink': '178358'}, {'strDrink': 'Manhattan', 'strDrinkThumb': 'https://www.thecocktaildb.com/images/media/drink/yk70e31606771240.jpg', 'idDrink': '11008'}, {'strDrink': 'Martinez 2', 'strDrinkThumb': 'https://www.thecocktaildb.com/images/media/drink/fs6kiq1513708455.jpg', 'idDrink': '17256'}, {'strDrink': 'Martinez Cocktail', 'strDrinkThumb': 'https://www.thecocktaildb.com/images/media/drink/wwxwvr1439906452.jpg', 'idDrink': '11720'}, {'strDrink': 'Martini', 'strDrinkThumb': 'https://www.thecocktaildb.com/images/media/drink/71t8581504353095.jpg', 'idDrink': '11728'}, {'strDrink': 'Mary Pickford', 'strDrinkThumb': 'https://www.thecocktaildb.com/images/media/drink/f9erqb1504350557.jpg', 'idDrink': '17188'}, {'strDrink': 'Mauresque', 'strDrinkThumb': 'https://www.thecocktaildb.com/images/media/drink/duwfa11686236556.jpg', 'idDrink': '178370'}, {'strDrink': 'Miami Vice', 'strDrinkThumb': 'https://www.thecocktaildb.com/images/media/drink/qvuyqw1441208955.jpg', 'idDrink': '13936'}, {'strDrink': 'Michelada', 'strDrinkThumb': 'https://www.thecocktaildb.com/images/media/drink/u736bd1605907086.jpg', 'idDrink': '178343'}, {'strDrink': 'Midnight Mint', 'strDrinkThumb': 'https://www.thecocktaildb.com/images/media/drink/svuvrq1441208310.jpg', 'idDrink': '14842'}, {'strDrink': 'Mojito', 'strDrinkThumb': 'https://www.thecocktaildb.com/images/media/drink/metwgh1606770327.jpg', 'idDrink': '11000'}, {'strDrink': 'Mojito Extra', 'strDrinkThumb': 'https://www.thecocktaildb.com/images/media/drink/vwxrsw1478251483.jpg', 'idDrink': '15841'}]}\n"
     ]
    },
    {
     "data": {
      "text/html": [
       "<div>\n",
       "<style scoped>\n",
       "    .dataframe tbody tr th:only-of-type {\n",
       "        vertical-align: middle;\n",
       "    }\n",
       "\n",
       "    .dataframe tbody tr th {\n",
       "        vertical-align: top;\n",
       "    }\n",
       "\n",
       "    .dataframe thead th {\n",
       "        text-align: right;\n",
       "    }\n",
       "</style>\n",
       "<table border=\"1\" class=\"dataframe\">\n",
       "  <thead>\n",
       "    <tr style=\"text-align: right;\">\n",
       "      <th></th>\n",
       "      <th>strDrink</th>\n",
       "      <th>strDrinkThumb</th>\n",
       "      <th>idDrink</th>\n",
       "    </tr>\n",
       "  </thead>\n",
       "  <tbody>\n",
       "    <tr>\n",
       "      <th>0</th>\n",
       "      <td>155 Belmont</td>\n",
       "      <td>https://www.thecocktaildb.com/images/media/dri...</td>\n",
       "      <td>15346</td>\n",
       "    </tr>\n",
       "    <tr>\n",
       "      <th>1</th>\n",
       "      <td>57 Chevy with a White License Plate</td>\n",
       "      <td>https://www.thecocktaildb.com/images/media/dri...</td>\n",
       "      <td>14029</td>\n",
       "    </tr>\n",
       "    <tr>\n",
       "      <th>2</th>\n",
       "      <td>747 Drink</td>\n",
       "      <td>https://www.thecocktaildb.com/images/media/dri...</td>\n",
       "      <td>178318</td>\n",
       "    </tr>\n",
       "    <tr>\n",
       "      <th>3</th>\n",
       "      <td>9 1/2 Weeks</td>\n",
       "      <td>https://www.thecocktaildb.com/images/media/dri...</td>\n",
       "      <td>16108</td>\n",
       "    </tr>\n",
       "    <tr>\n",
       "      <th>4</th>\n",
       "      <td>A Gilligan's Island</td>\n",
       "      <td>https://www.thecocktaildb.com/images/media/dri...</td>\n",
       "      <td>16943</td>\n",
       "    </tr>\n",
       "    <tr>\n",
       "      <th>...</th>\n",
       "      <td>...</td>\n",
       "      <td>...</td>\n",
       "      <td>...</td>\n",
       "    </tr>\n",
       "    <tr>\n",
       "      <th>95</th>\n",
       "      <td>Miami Vice</td>\n",
       "      <td>https://www.thecocktaildb.com/images/media/dri...</td>\n",
       "      <td>13936</td>\n",
       "    </tr>\n",
       "    <tr>\n",
       "      <th>96</th>\n",
       "      <td>Michelada</td>\n",
       "      <td>https://www.thecocktaildb.com/images/media/dri...</td>\n",
       "      <td>178343</td>\n",
       "    </tr>\n",
       "    <tr>\n",
       "      <th>97</th>\n",
       "      <td>Midnight Mint</td>\n",
       "      <td>https://www.thecocktaildb.com/images/media/dri...</td>\n",
       "      <td>14842</td>\n",
       "    </tr>\n",
       "    <tr>\n",
       "      <th>98</th>\n",
       "      <td>Mojito</td>\n",
       "      <td>https://www.thecocktaildb.com/images/media/dri...</td>\n",
       "      <td>11000</td>\n",
       "    </tr>\n",
       "    <tr>\n",
       "      <th>99</th>\n",
       "      <td>Mojito Extra</td>\n",
       "      <td>https://www.thecocktaildb.com/images/media/dri...</td>\n",
       "      <td>15841</td>\n",
       "    </tr>\n",
       "  </tbody>\n",
       "</table>\n",
       "<p>100 rows × 3 columns</p>\n",
       "</div>"
      ],
      "text/plain": [
       "                               strDrink  \\\n",
       "0                           155 Belmont   \n",
       "1   57 Chevy with a White License Plate   \n",
       "2                             747 Drink   \n",
       "3                           9 1/2 Weeks   \n",
       "4                   A Gilligan's Island   \n",
       "..                                  ...   \n",
       "95                           Miami Vice   \n",
       "96                            Michelada   \n",
       "97                        Midnight Mint   \n",
       "98                               Mojito   \n",
       "99                         Mojito Extra   \n",
       "\n",
       "                                        strDrinkThumb idDrink  \n",
       "0   https://www.thecocktaildb.com/images/media/dri...   15346  \n",
       "1   https://www.thecocktaildb.com/images/media/dri...   14029  \n",
       "2   https://www.thecocktaildb.com/images/media/dri...  178318  \n",
       "3   https://www.thecocktaildb.com/images/media/dri...   16108  \n",
       "4   https://www.thecocktaildb.com/images/media/dri...   16943  \n",
       "..                                                ...     ...  \n",
       "95  https://www.thecocktaildb.com/images/media/dri...   13936  \n",
       "96  https://www.thecocktaildb.com/images/media/dri...  178343  \n",
       "97  https://www.thecocktaildb.com/images/media/dri...   14842  \n",
       "98  https://www.thecocktaildb.com/images/media/dri...   11000  \n",
       "99  https://www.thecocktaildb.com/images/media/dri...   15841  \n",
       "\n",
       "[100 rows x 3 columns]"
      ]
     },
     "execution_count": 59,
     "metadata": {},
     "output_type": "execute_result"
    }
   ],
   "source": [
    "myjson = json.loads(r.text)\n",
    "print(myjson)\n",
    "pd.json_normalize(myjson, record_path = ['drinks'])"
   ]
  },
  {
   "cell_type": "markdown",
   "metadata": {},
   "source": [
    "### Wikepedia"
   ]
  },
  {
   "cell_type": "code",
   "execution_count": 27,
   "metadata": {},
   "outputs": [],
   "source": [
    "url = 'https://en.wikipedia.org/w/api.php?action=query&list=search&srsearch=Virginia&format=json&srlimit=500'\n",
    "r = requests.get(url, headers = headers)"
   ]
  },
  {
   "cell_type": "code",
   "execution_count": 28,
   "metadata": {},
   "outputs": [],
   "source": [
    "myjson = json.loads(r.text)"
   ]
  },
  {
   "cell_type": "code",
   "execution_count": 30,
   "metadata": {},
   "outputs": [],
   "source": [
    "virginia_wiki_df = pd.json_normalize(myjson, record_path = ['query', 'search'])"
   ]
  },
  {
   "cell_type": "markdown",
   "metadata": {},
   "source": [
    "### News API"
   ]
  },
  {
   "cell_type": "code",
   "execution_count": 31,
   "metadata": {},
   "outputs": [],
   "source": [
    "# DON'T EVER DO THIS!!!\n",
    "# Instead use a .env file to store API keys and bring them into Python without displaying the (covered in module 4)\n",
    "apikey = '8606238489754ba08923c54de388c3fe'"
   ]
  },
  {
   "cell_type": "code",
   "execution_count": 43,
   "metadata": {},
   "outputs": [],
   "source": [
    "params = {'q': 'Florida man', \n",
    "          'apiKey': apikey}"
   ]
  },
  {
   "cell_type": "code",
   "execution_count": 44,
   "metadata": {},
   "outputs": [],
   "source": [
    "url = 'https://newsapi.org/v2/everything'\n",
    "r = requests.get(url, headers = headers, params = params)"
   ]
  },
  {
   "cell_type": "code",
   "execution_count": 45,
   "metadata": {},
   "outputs": [],
   "source": [
    "myjson = json.loads(r.text)"
   ]
  },
  {
   "cell_type": "code",
   "execution_count": 47,
   "metadata": {},
   "outputs": [],
   "source": [
    "news_df = pd.json_normalize(myjson, record_path = 'articles')"
   ]
  },
  {
   "cell_type": "code",
   "execution_count": 49,
   "metadata": {},
   "outputs": [
    {
     "name": "stdout",
     "output_type": "stream",
     "text": [
      "Florida Man Thinks He’s Smarter Than Highway Patrol\n",
      "Florida Man Builds 10-Foot-Wide Tiny Home To Spite Neighbors, Then Lists It For $600,000\n",
      "Florida man pleads not guilty to kidnapping his estranged wife from her apartment in Spain\n",
      "The Florida deputy who shot U.S. airman Roger Fortson has been fired\n",
      "Man who fled California due to the ‘cost of living, politics, traffic and crime’ says he’s ‘much happier’ in Florida\n",
      "3 Alabama Men Die After Becoming Distressed While Swimming at Florida Beach\n",
      "Florida two-way star Caglianone keys MCWS win\n",
      "Florida sniper shoots, kills bank robber holding hostages through computer monitor: Video\n",
      "Display of a captured wolf in a Wyoming bar brings outrage\n",
      "3 Alabama men die after becoming distressed while swimming at Florida beach\n",
      "WATCH: Florida fugitive flees traffic stop, is rammed by police\n",
      "WATCH: Florida braces for new round of dangerous flooding\n",
      "WATCH: 12-year-old wins 2024 Scripps National Spelling Bee\n",
      "WATCH: Sea turtles interact in rare sighting off the coast of Florida\n",
      "Here's what every member of the Trump family is up to after leaving the White House\n",
      "Video that appears to show IDF soldier threatening mutiny in Gaza shared by son of Israeli PM Benjamin Netanyahu, say reports\n",
      "Aggressive Shark Repeatedly Rams Florida Man’s Jet Ski\n",
      "Officers indicted for 2019 shootout with robbers that killed UPS driver and passerby\n",
      "See it: Catfish 'the size of a 6th grader' tops state record after pulled from Oklahoma reservoir\n",
      "Extreme heat contributed to his brother’s death. He worries he could be next\n",
      "Passenger Dies After Falling Overboard From World’s Largest Cruise Ship\n",
      "'I’m One Tap Away From Publishing Your Nudes': 12 Horror Stories About Extortion Attempts on Grindr\n",
      "2 Live Crew Rapper Brother Marquis Dies at 58\n",
      "With Tyson out, Paul to fight Bare Knuckle's Perry\n",
      "WR Dell on shooting: 'Wrong place, wrong time'\n",
      "Lifeguard Dies After Being Attacked by Shark While Surfing in Hawaii\n",
      "A passenger fell off the world’s biggest cruise ship and died\n",
      "Crime blotter: California Apple Store theft suspects in court\n",
      "Florida Sniper Shoots Bank Robber Through Computer, Rescues Hostages\n",
      "Panthers Win Game 2 vs. McDavid, Oilers as NHL Fans Hype Evan Rodrigues' Late Goals\n",
      "A Florida family is suing NASA after a piece of space debris crashed through their home\n",
      "5 great Netflix movies to watch on Juneteenth\n",
      "19-year-old speaks out after surviving shark attack in Texas\n",
      "Oklahoma voters to decide between GOP incumbent Tom Cole, challenger Paul Bondar\n",
      "Heat and snowfall, rain and wildfires. It’s a week of extreme weather in the U.S\n",
      "Two years after Dobbs; militants attack in southern Russia\n",
      "At Least 22 Dead After Memorial Day Weekend Storms Sweep Through Several States\n",
      "Volusia, Flagler sheriffs' offices face lawsuits over chase that killed innocent siblings\n",
      "Alligator Attacks Man Swimming in Florida Lake\n",
      "Insider Today: Travel agents are back\n",
      "Draisaitl verliert mit den Oilers auch das dritte NHL-Finalspiel\n",
      "Rory McIlroy, Wife Erica Call Off Divorce: Our 'Best Future' Is as a Family Together\n",
      "Florida Sheriff Grady Judd Decides He’s Capable Of Running An AI Crime Thingy\n",
      "Studie zu den USA: Ältere Frauen verbreiten besonders viel Desinformation\n",
      "Deadly Winter Springs carjacking suspects set woman ablaze after carjacking her for $170K: new federal docs\n",
      "Arizona Man Indicted After Planning Mass Shooting at Atlanta Concert to Incite Race War\n",
      "AI chatbots just can’t shake off gender stereotypes, here’s why\n",
      "What Mitch McConnell's truce with Trump means\n",
      "Giant Venomous Flying Spiders Invading New York, Spreading Up East Coast\n",
      "New Florida Law Allows C-Sections To Be Performed By Any Machete-Wielding Lunatic\n",
      "Accused lookout in James “Whitey” Bulger prison killing pleads guilty, gets no additional time\n",
      "Rangers Take 2-1 Series Lead vs. Panthers as NHL Fans Praise Wennberg's G3 OT Goal\n",
      "Florida man arrested over surprise furniture donation in NYC [Florida]\n",
      "A Director Cameo Unites The Bad Boys Sequels – And It Demands A Proper Investigation\n",
      "Florida Man: \"Man, I'm gonna go to the grocery store and start cooking\" [Florida]\n",
      "Vivek Ramaswamy's 'Truth': What the Trump VP prospect's podcast reveals about his future\n",
      "Wild pigs, conquering all Florida counties, now taking over USA...\n",
      "Some Gen Z and baby boomers are facing a strange predicament: feeling happy and lonely at the same time\n",
      "Florida Man tries to recreate 'Lord of the Flies' with predictable results [Florida]\n",
      "Taking the right seriously\n",
      "Trump-endorsed Nancy Mace fighting to keep her South Carolina congressional seat\n",
      "Garland blasts conspiracy theories about Trump criminal case and FBI\n",
      "All the People Who Have Been Shot by Their Dogs\n",
      "Denzel Curry – “Hot One” (Feat. FERG & TiaCorine)\n",
      "New 'Space Cadet' trailer enlists Emma Roberts into NASA's astronaut program (video)\n",
      "Florida man with same name as Deadpool character sits in court with ridiculous new face tattoos [Florida]\n",
      "Florida teens reenact Fast & Furious to save passed-out man in sinking car. Vin Diesel would be proud [Florida]\n",
      "If You Build It (a Cricket Stadium on Long Island), Will They Come?\n",
      "When Yorkie-poos Fly\n",
      "★ Trump Endorses Louisiana Law Requiring the Ten Commandments Be Displayed in Public Schools\n",
      "Emma Roberts Trains to Be an Astronaut in 'Space Cadet' Movie Trailer\n",
      "Angry Florida Man Rams Deputy’s Car\n",
      "The Florida Man Who Headbanged in a Hurricane\n",
      "Florida Man Pleads Guilty to Wire Fraud Conspiracy Tied to Forcount Crypto Ponzi\n",
      "How George Floyd’s Death Exposed a Fake Syndrome: ‘Excited Delirium’\n",
      "EA Sports College Football 25 preview: Come for the pageantry, stay for the gameplay\n",
      "Convicted Felon Trump Forced to Beg Most Embarrassing Ally for Help\n",
      "„War überrascht, wie nahe sie waren“ - Kreuzfahrt-Passagier berichtet von Begegnung mit russischen Kriegsschiffen\n",
      "FLORIDA MAN FRIDAY [VIP]: The Score Doesn’t Lie: This Is the Greatest Florida Man Friday EVER.\n",
      "DNA on plastic fork in Florida cracks 15-year-old unsolved NYC homicide\n",
      "Trump flunks another science test in ‘Fox & Friends’ interview\n",
      "Dave Grohl Takes Jab At Taylor Swift During Foo Fighters’ London Show: “We Actually Play Live”\n",
      "Groom-to-be catches massive hammerhead shark during bachelor party in Florida. Cool tag steps in as best man [Cool]\n",
      "How to Pick Stocks Like You’re in Congress\n",
      "It is that time of the year again\n",
      "Given the choice of paying for his stolen beer or going to jail, Florida Man pops one open and picks the latter option [Florida]\n",
      "An inside look at the weekend the GameStop frenzy began on WallStreetBets\n",
      "Man arrested after going into unlocked bank and not stealing any money [Florida]\n",
      "Jing Ai Ng’s Dark Comedy ‘Forge’ Adds Seven To Cast\n",
      "Stonks, music history, geography, and Florida Man are all on the Fark Weird News Quiz, May 30 - June 5 D-Day Edition [Weird]\n",
      "The legacy of Chester Stone, Florida man and internet sensation\n",
      "Florida homeless men sue Seminole for criminalizing panhandling\n",
      "The Misfit Who Built the IBM PC\n",
      "John Calipari Talks New Roster 'Formula' at Arkansas, Lessons Learned from Kentucky\n",
      "A Florida Man Was Arrested for Filming Marion County Sheriff's Deputies. Now He's Suing.\n",
      "FLORIDA, MAN: Florida ranked top of list for startup activity, economic health. “For its findings, W\n",
      "College Baseball Super Regionals 2024: Results, Highlights and Bracket from Friday\n",
      "Honor Thy Father: The Saga Of A Drug Smuggler’s Son\n",
      "Nation Gripped by Mystery of Missing Florida Woman Who Went to Start New Life Overseas\n",
      "Wie dieser Satellit die Wettervorhersagen deutlich verbessern soll\n"
     ]
    },
    {
     "data": {
      "text/plain": [
       "[None,\n",
       " None,\n",
       " None,\n",
       " None,\n",
       " None,\n",
       " None,\n",
       " None,\n",
       " None,\n",
       " None,\n",
       " None,\n",
       " None,\n",
       " None,\n",
       " None,\n",
       " None,\n",
       " None,\n",
       " None,\n",
       " None,\n",
       " None,\n",
       " None,\n",
       " None,\n",
       " None,\n",
       " None,\n",
       " None,\n",
       " None,\n",
       " None,\n",
       " None,\n",
       " None,\n",
       " None,\n",
       " None,\n",
       " None,\n",
       " None,\n",
       " None,\n",
       " None,\n",
       " None,\n",
       " None,\n",
       " None,\n",
       " None,\n",
       " None,\n",
       " None,\n",
       " None,\n",
       " None,\n",
       " None,\n",
       " None,\n",
       " None,\n",
       " None,\n",
       " None,\n",
       " None,\n",
       " None,\n",
       " None,\n",
       " None,\n",
       " None,\n",
       " None,\n",
       " None,\n",
       " None,\n",
       " None,\n",
       " None,\n",
       " None,\n",
       " None,\n",
       " None,\n",
       " None,\n",
       " None,\n",
       " None,\n",
       " None,\n",
       " None,\n",
       " None,\n",
       " None,\n",
       " None,\n",
       " None,\n",
       " None,\n",
       " None,\n",
       " None,\n",
       " None,\n",
       " None,\n",
       " None,\n",
       " None,\n",
       " None,\n",
       " None,\n",
       " None,\n",
       " None,\n",
       " None,\n",
       " None,\n",
       " None,\n",
       " None,\n",
       " None,\n",
       " None,\n",
       " None,\n",
       " None,\n",
       " None,\n",
       " None,\n",
       " None,\n",
       " None,\n",
       " None,\n",
       " None,\n",
       " None,\n",
       " None,\n",
       " None,\n",
       " None,\n",
       " None,\n",
       " None,\n",
       " None]"
      ]
     },
     "execution_count": 49,
     "metadata": {},
     "output_type": "execute_result"
    }
   ],
   "source": [
    "[print(x) for x in news_df['title']]"
   ]
  },
  {
   "cell_type": "code",
   "execution_count": null,
   "metadata": {},
   "outputs": [],
   "source": []
  }
 ],
 "metadata": {
  "kernelspec": {
   "display_name": "Python 3",
   "language": "python",
   "name": "python3"
  },
  "language_info": {
   "codemirror_mode": {
    "name": "ipython",
    "version": 3
   },
   "file_extension": ".py",
   "mimetype": "text/x-python",
   "name": "python",
   "nbconvert_exporter": "python",
   "pygments_lexer": "ipython3",
   "version": "3.11.9"
  }
 },
 "nbformat": 4,
 "nbformat_minor": 2
}
