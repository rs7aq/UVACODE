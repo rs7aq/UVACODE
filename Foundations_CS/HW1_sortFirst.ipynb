{
  "cells": [
    {
      "cell_type": "markdown",
      "metadata": {
        "id": "YgaqXBYJDx0D"
      },
      "source": [
        "#HW #1. Improve code Efficiency: Sort First!\n",
        "\n",
        "## Scenario.\n",
        "\n",
        "In a two class, classification problem, it is common to use a classifier that outputs confidences (rather than simply class labels). A good example of this is a Support Vector Machine. A pro for using such a classifier is that you gain more information -- specifically the confidence in the classification result. A con is that in order to make a final classification decision, a threshold value must be determined. For example, if a threshold of 0.75 is chosen, the class label 1 would be assigned for confidences greater than 0.75 and for confidences less than 0.75 a class label of 0 would be assigned. However, this begs the question: how is the threshold chosen?\n",
        "\n",
        "Many data scientists will choose a threshold based on the experimental results and/or operational constraints. In this code example, we assume that we have confidences and true labels for a large data set. To determine a good threshold we will compute the true positive rates (TPRs) and false positive rates (FPRs) at all relevant thresholds. The relevant thresholds are considered those that would change the TPRs and FPRs.\n",
        "\n",
        "In the code below, a function is defined to compute the TPR and FPR at all relevant thresholds. However, the code is not very efficient and can be improved. (Note there are tips and hints found in the comments.)\n",
        "\n",
        "Your task is the following:\n",
        "\n",
        "## Question 1\n",
        "**40 POINTS**  \n",
        "Assess the time complexity of the method computeAllTPRs(...). Provide a line-by-line assessment in comments identifying the proportional number of steps (bounding notation is sufficient) per line: eg, O(1), O(log n), O(n), etc. Also, derive a time step function T(n) for the entire method (where n is the size of input true_label).\n",
        "\n",
        "## Question 2\n",
        "**30 POINTS**  \n",
        "Implement a new function computeAllTPRs_improved(...) which performs the same task as computeAllTPRs but has a significantly reduced time complexity. Also provide a line-by-line assessment in comments identifying the proportional number of steps per line, and derive a time step function T(n) for the entire method (where n is the size of input true_label).\n",
        "\n",
        "## Question 3\n",
        "**30 POINTS**  \n",
        "Compare the theoretical time complexities of both methods and predict which is more efficient. Next, test your prediction by timing both methods on sample inputs of varying sizes. Create a plot of inputSize vs runtime (as done in similar class examples).  \n",
        "\n",
        "**NOTE: Do not include runtimes for graphing**\n",
        "\n",
        "**TOTAL POINTS: 100**\n",
        "\n",
        "---"
      ]
    },
    {
      "cell_type": "code",
      "execution_count": 1,
      "metadata": {
        "id": "tQs8b3ccEskN"
      },
      "outputs": [],
      "source": [
        "import matplotlib.pyplot as plt\n",
        "import random\n",
        "from copy import deepcopy\n",
        "from numpy import argmax"
      ]
    },
    {
      "cell_type": "markdown",
      "metadata": {
        "id": "l4t6Gd-XNWdr"
      },
      "source": [
        "Answer Question #1 in the comments of the code chunk below."
      ]
    },
    {
      "cell_type": "code",
      "execution_count": 2,
      "metadata": {
        "id": "IFu90tkjEORa"
      },
      "outputs": [],
      "source": [
        "def computeAllTPRs(true_label, confs):\n",
        "        '''\n",
        "\n",
        "        inputs:\n",
        "         - true_label: list of labels, assumed to be 0 or 1 (a two class problem)\n",
        "         - confs: list of confidences\n",
        "\n",
        "        This method computes the True Positive Rate (TPRs) and FPRs for all relevant\n",
        "        thresholds given true_label and confs. Relevant thresholds are considered\n",
        "        all different values found in confs.\n",
        "        '''\n",
        "\n",
        "        # Define / initialize  variables\n",
        "        sentinelValue = -1 # used to replace max value found thus far # O(1)\n",
        "        totalPositives = sum(true_label) # O(1)\n",
        "        totalNegatives = len(true_label) - totalPositives # O(1)\n",
        "        truePositives = 0 # O(1)\n",
        "        falsePositives = 0 # O(1)\n",
        "        # Hint: Consider Memory Management\n",
        "        truePositiveRate = [] # O(1)\n",
        "        falsePositiveRate = [] # O(1)\n",
        "\n",
        "        #Hint: Although not explicitly clear, the loop structure below is an\n",
        "            #embeded loop ie, O(n^2) ... do you see why??\n",
        "        #Hint: If you sort the confidences first you can improve the iteration scheme.\n",
        "\n",
        "        # Iterate over all relevant thresholds. Compute TPR and FPR for each and\n",
        "        # append to truePositiveRate , falsePositiveRate lists.\n",
        "\n",
        "        for i in range(len(confs)): # O(n)\n",
        "          maxVal = max(confs) # n * O(n) - must go through every element\n",
        "          argMax = argmax(confs) # n * O(n)\n",
        "          confs[argMax] = sentinelValue # O(1)\n",
        "          if true_label[argMax]==1: # O(1)\n",
        "            truePositives += 1 # 1 * O(1)\n",
        "          else: # O(1)\n",
        "            falsePositives += 1 # 1 * O(1)\n",
        "\n",
        "          truePositiveRate.append(truePositives/totalPositives) # O(1)\n",
        "          falsePositiveRate.append(falsePositives/totalNegatives) # O(1)\n",
        "\n",
        "          # T(n) = 9 * O(1) + O(n) + 2 * (n * O(n)) + (n * O(1)) + 4 * (n * O(1))\n",
        "          # T(n) = O(1) + O(n) + O(n^2) + O(1) + O(1)\n",
        "          # T(n) = O(n^2)\n"
      ]
    },
    {
      "cell_type": "code",
      "execution_count": 9,
      "metadata": {
        "id": "6RBVDmTOeysa"
      },
      "outputs": [],
      "source": [
        "def testComputeAllTPRs(numSamples):\n",
        "\n",
        "  confList = [] # O(1)\n",
        "  labels = [] # O(1)\n",
        "  maxVal = 10000 # O(1)\n",
        "  for i in range(0,numSamples): # O(n)\n",
        "    n = random.randint(1,maxVal) # O(1)\n",
        "    confList.append(n/maxVal) # O(1)\n",
        "    if n/maxVal > .5: # O(1)\n",
        "      lab = 1 # O(1) # O(1)\n",
        "    else: # O(1)\n",
        "      lab = 0 # O(1)\n",
        "    labels.append(lab) # O(1)\n",
        "    \n",
        "  computeAllTPRs(labels, deepcopy(confList))  # Why a deepcopy here?"
      ]
    },
    {
      "cell_type": "code",
      "execution_count": 10,
      "metadata": {},
      "outputs": [
        {
          "name": "stdout",
          "output_type": "stream",
          "text": [
            "[0.23, 0.6548, 0.2674, 0.8214, 0.2569, 0.0443, 0.1446, 0.9196, 0.5799, 0.3581, 0.6109, 0.4552, 0.9102, 0.0533, 0.9961, 0.6627, 0.5625, 0.2765, 0.8609, 0.4329, 0.6825, 0.4014, 0.9821, 0.0143, 0.6805, 0.4357, 0.0655, 0.4537, 0.9404, 0.3094, 0.7103, 0.5442, 0.801, 0.0257, 0.8306, 0.9949, 0.0739, 0.0311, 0.2697, 0.957, 0.7558, 0.7745, 0.0209, 0.5359, 0.5703, 0.6517, 0.575, 0.4799, 0.702, 0.9917, 0.5249, 0.4606, 0.259, 0.0862, 0.7031, 0.0107, 0.3232, 0.5505, 0.7781, 0.4851, 0.1955, 0.1233, 0.3692, 0.4609, 0.9861, 0.8566, 0.2133, 0.1188, 0.2916, 0.2708, 0.0006, 0.6519, 0.738, 0.17, 0.4981, 0.1926, 0.6753, 0.0752, 0.5137, 0.8465, 0.3392, 0.8112, 0.814, 0.5139, 0.7153, 0.6442, 0.2749, 0.7593, 0.1539, 0.0988, 0.8044, 0.5864, 0.9164, 0.3132, 0.5665, 0.8542, 0.4074, 0.698, 0.2978, 0.6785]\n"
          ]
        }
      ],
      "source": [
        "testComputeAllTPRs(100)"
      ]
    },
    {
      "cell_type": "code",
      "execution_count": 6,
      "metadata": {},
      "outputs": [
        {
          "ename": "NameError",
          "evalue": "name 'labels' is not defined",
          "output_type": "error",
          "traceback": [
            "\u001b[1;31m---------------------------------------------------------------------------\u001b[0m",
            "\u001b[1;31mNameError\u001b[0m                                 Traceback (most recent call last)",
            "Cell \u001b[1;32mIn[6], line 1\u001b[0m\n\u001b[1;32m----> 1\u001b[0m labels\n",
            "\u001b[1;31mNameError\u001b[0m: name 'labels' is not defined"
          ]
        }
      ],
      "source": []
    },
    {
      "cell_type": "markdown",
      "metadata": {
        "id": "J0aNsuFFMzLt"
      },
      "source": [
        "Below, provide your implementation for Question #2."
      ]
    },
    {
      "cell_type": "code",
      "execution_count": 8,
      "metadata": {
        "id": "I4SoYMYBMyzA"
      },
      "outputs": [],
      "source": []
    },
    {
      "cell_type": "markdown",
      "metadata": {
        "id": "lP72j3GqM6AH"
      },
      "source": [
        "Question #3. Below, provide your code which records and plots the runtime for the original and improved methods."
      ]
    },
    {
      "cell_type": "code",
      "execution_count": 8,
      "metadata": {
        "id": "PAWM8pogeysb"
      },
      "outputs": [],
      "source": []
    }
  ],
  "metadata": {
    "colab": {
      "provenance": []
    },
    "kernelspec": {
      "display_name": "Python 3",
      "language": "python",
      "name": "python3"
    },
    "language_info": {
      "codemirror_mode": {
        "name": "ipython",
        "version": 3
      },
      "file_extension": ".py",
      "mimetype": "text/x-python",
      "name": "python",
      "nbconvert_exporter": "python",
      "pygments_lexer": "ipython3",
      "version": "3.11.7"
    }
  },
  "nbformat": 4,
  "nbformat_minor": 0
}
