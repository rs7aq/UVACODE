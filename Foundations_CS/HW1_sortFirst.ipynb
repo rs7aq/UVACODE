{
  "cells": [
    {
      "cell_type": "markdown",
      "metadata": {
        "id": "YgaqXBYJDx0D"
      },
      "source": [
        "#HW #1. Improve code Efficiency: Sort First!\n",
        "\n",
        "## Scenario.\n",
        "\n",
        "In a two class, classification problem, it is common to use a classifier that outputs confidences (rather than simply class labels). A good example of this is a Support Vector Machine. A pro for using such a classifier is that you gain more information -- specifically the confidence in the classification result. A con is that in order to make a final classification decision, a threshold value must be determined. For example, if a threshold of 0.75 is chosen, the class label 1 would be assigned for confidences greater than 0.75 and for confidences less than 0.75 a class label of 0 would be assigned. However, this begs the question: how is the threshold chosen?\n",
        "\n",
        "Many data scientists will choose a threshold based on the experimental results and/or operational constraints. In this code example, we assume that we have confidences and true labels for a large data set. To determine a good threshold we will compute the true positive rates (TPRs) and false positive rates (FPRs) at all relevant thresholds. The relevant thresholds are considered those that would change the TPRs and FPRs.\n",
        "\n",
        "In the code below, a function is defined to compute the TPR and FPR at all relevant thresholds. However, the code is not very efficient and can be improved. (Note there are tips and hints found in the comments.)\n",
        "\n",
        "Your task is the following:\n",
        "\n",
        "## Question 1\n",
        "**40 POINTS**  \n",
        "Assess the time complexity of the method computeAllTPRs(...). Provide a line-by-line assessment in comments identifying the proportional number of steps (bounding notation is sufficient) per line: eg, O(1), O(log n), O(n), etc. Also, derive a time step function T(n) for the entire method (where n is the size of input true_label).\n",
        "\n",
        "## Question 2\n",
        "**30 POINTS**  \n",
        "Implement a new function computeAllTPRs_improved(...) which performs the same task as computeAllTPRs but has a significantly reduced time complexity. Also provide a line-by-line assessment in comments identifying the proportional number of steps per line, and derive a time step function T(n) for the entire method (where n is the size of input true_label).\n",
        "\n",
        "## Question 3\n",
        "**30 POINTS**  \n",
        "Compare the theoretical time complexities of both methods and predict which is more efficient. Next, test your prediction by timing both methods on sample inputs of varying sizes. Create a plot of inputSize vs runtime (as done in similar class examples).  \n",
        "\n",
        "**NOTE: Do not include runtimes for graphing**\n",
        "\n",
        "**TOTAL POINTS: 100**\n",
        "\n",
        "---"
      ]
    },
    {
      "cell_type": "code",
      "execution_count": 9,
      "metadata": {
        "id": "tQs8b3ccEskN"
      },
      "outputs": [],
      "source": [
        "import matplotlib.pyplot as plt\n",
        "import random\n",
        "from copy import deepcopy\n",
        "from numpy import argmax\n",
        "import time"
      ]
    },
    {
      "cell_type": "markdown",
      "metadata": {
        "id": "l4t6Gd-XNWdr"
      },
      "source": [
        "Answer Question #1 in the comments of the code chunk below."
      ]
    },
    {
      "cell_type": "code",
      "execution_count": 10,
      "metadata": {
        "id": "IFu90tkjEORa"
      },
      "outputs": [],
      "source": [
        "def computeAllTPRs1(true_label, confs):\n",
        "        '''\n",
        "\n",
        "        inputs:\n",
        "         - true_label: list of labels, assumed to be 0 or 1 (a two class problem)\n",
        "         - confs: list of confidences\n",
        "\n",
        "        This method computes the True Positive Rate (TPRs) and FPRs for all relevant\n",
        "        thresholds given true_label and confs. Relevant thresholds are considered\n",
        "        all different values found in confs.\n",
        "        '''\n",
        "\n",
        "        # Define / initialize  variables\n",
        "        sentinelValue = -1 # used to replace max value found thus far # O(1)\n",
        "        totalPositives = sum(true_label) # O(1)\n",
        "        totalNegatives = len(true_label) - totalPositives # O(1)\n",
        "        truePositives = 0 # O(1)\n",
        "        falsePositives = 0 # O(1)\n",
        "        # Hint: Consider Memory Management\n",
        "        truePositiveRate = [] # O(1)\n",
        "        falsePositiveRate = [] # O(1)\n",
        "\n",
        "        #Hint: Although not explicitly clear, the loop structure below is an\n",
        "            #embeded loop ie, O(n^2) ... do you see why??\n",
        "        #Hint: If you sort the confidences first you can improve the iteration scheme.\n",
        "\n",
        "        # Iterate over all relevant thresholds. Compute TPR and FPR for each and\n",
        "        # append to truePositiveRate , falsePositiveRate lists.\n",
        "\n",
        "\n",
        "        for i in range(len(confs)): # O(n)\n",
        "          maxVal = max(confs) # n * O(n) - must go through every element\n",
        "          argMax = argmax(confs) # n * O(n)\n",
        "          confs[argMax] = sentinelValue # n * O(1)\n",
        "          if true_label[argMax]==1: # n * O(1)\n",
        "            truePositives += 1 # n * O(1)\n",
        "          else: # n * O(1)\n",
        "            falsePositives += 1 # n * O(1)\n",
        "\n",
        "          truePositiveRate.append(truePositives/totalPositives) # n * O(1)\n",
        "          falsePositiveRate.append(falsePositives/totalNegatives) # n * O(1)\n",
        "        \n",
        "\n",
        "          # T(n) = 7*O(1) + O(n) + 2*(n*O(n)) + O(n) + 4*O(n) + 2*(n*O(1))\n",
        "          # T(n) = O(1) + O(n) + O(n^2) \n",
        "          # T(n) = O(n^2)\n"
      ]
    },
    {
      "cell_type": "code",
      "execution_count": 11,
      "metadata": {
        "id": "6RBVDmTOeysa"
      },
      "outputs": [],
      "source": [
        "def testComputeAllTPRs1(numSamples):\n",
        "\n",
        "  confList = [] # O(1)\n",
        "  labels = [] # O(1)\n",
        "  maxVal = 10000 # O(1)\n",
        "  \n",
        "  for i in range(0,numSamples): # O(n)\n",
        "    n = random.randint(1,maxVal) # n * O(1)\n",
        "    confList.append(n/maxVal) # n * O(1)\n",
        "    if n/maxVal > .5: # n * O(1)\n",
        "      lab = 1 # O(1) # n * O(1)\n",
        "    else: # n * O(1)\n",
        "      lab = 0 # n* O(1)\n",
        "    labels.append(lab) # n * O(1)\n",
        "    \n",
        "  computeAllTPRs1(labels, deepcopy(confList))  # Why a deepcopy here?\n"
      ]
    },
    {
      "cell_type": "markdown",
      "metadata": {
        "id": "J0aNsuFFMzLt"
      },
      "source": [
        "Below, provide your implementation for Question #2."
      ]
    },
    {
      "cell_type": "markdown",
      "metadata": {},
      "source": [
        "I use the sorted function here for my tuple, which has a time complexity of n log n"
      ]
    },
    {
      "cell_type": "code",
      "execution_count": 12,
      "metadata": {},
      "outputs": [],
      "source": [
        "def computeAllTPRs2(true_label, confs):\n",
        "        '''\n",
        "\n",
        "        inputs:\n",
        "         - true_label: list of labels, assumed to be 0 or 1 (a two class problem)\n",
        "         - confs: list of confidences\n",
        "\n",
        "        This method computes the True Positive Rate (TPRs) and FPRs for all relevant\n",
        "        thresholds given true_label and confs. Relevant thresholds are considered\n",
        "        all different values found in confs.\n",
        "        '''\n",
        "        \n",
        "        # Define / initialize  variables\n",
        "        sentinelValue = -1 # used to replace max value found thus far # O(1)\n",
        "        totalPositives = sum(true_label) # O(1)\n",
        "        totalNegatives = len(true_label) - totalPositives # O(1)\n",
        "        truePositives = 0 # O(1)\n",
        "        falsePositives = 0 # O(1)\n",
        "        # Hint: Consider Memory Management\n",
        "        truePositiveRate = [] # O(1)\n",
        "        falsePositiveRate = [] # O(1)\n",
        "\n",
        "        tuple_label_conf = tuple(zip(true_label, confs)) # O(1)\n",
        "\n",
        "        sorted_tuple_label_conf = sorted(tuple_label_conf, key=lambda tup: tup[1]) # O(n log n)\n",
        "\n",
        "\n",
        "        for i in range(len(sorted_tuple_label_conf)): # O(n)\n",
        "\n",
        "          if sorted_tuple_label_conf[i][0]==1: # O(1)\n",
        "            truePositives += 1 # 1 * O(1)\n",
        "          else: # O(1)\n",
        "            falsePositives += 1 # 1 * O(1)\n",
        "          \n",
        "          truePositiveRate.append(truePositives/totalPositives) # O(1)\n",
        "          falsePositiveRate.append(falsePositives/totalNegatives) # O(1)\n",
        "\n",
        "\n",
        "  \n",
        "\n",
        "          # T(n) = 10 * O(1) + O(n log n) + O(n) + O(1) + 1 * O(1) + O(1) + 1 * O(1)\n",
        "          # T(n) = O(1) + O(n log n) + O(n)\n",
        "          # T(n) = O(n log n)"
      ]
    },
    {
      "cell_type": "code",
      "execution_count": 13,
      "metadata": {},
      "outputs": [],
      "source": [
        "def testComputeAllTPRs2(numSamples):\n",
        "\n",
        "  confList = [] # O(1)\n",
        "  labels = [] # O(1)\n",
        "  maxVal = 10000 # O(1)\n",
        "  \n",
        "  for i in range(0,numSamples): # O(n)\n",
        "    n = random.randint(1,maxVal) # n * O(1)\n",
        "    confList.append(n/maxVal) # n * O(1)\n",
        "    if n/maxVal > .5: # n * O(1)\n",
        "      lab = 1 # O(1) # n * O(1)\n",
        "    else: # n * O(1)\n",
        "      lab = 0 # n * O(1)\n",
        "    labels.append(lab) # n * O(1)\n",
        "    \n",
        "  computeAllTPRs2(labels, deepcopy(confList))  # Why a deepcopy here?\n",
        "  "
      ]
    },
    {
      "cell_type": "markdown",
      "metadata": {},
      "source": [
        "Question #3. Below, provide your code which records and plots the runtime for the original and improved methods."
      ]
    },
    {
      "cell_type": "markdown",
      "metadata": {},
      "source": [
        "I predict that my modified function will be more efficient because it avoids the issue of going through every element twice. This leads to my modified function having n log n efficiency. "
      ]
    },
    {
      "cell_type": "code",
      "execution_count": 15,
      "metadata": {
        "id": "I4SoYMYBMyzA"
      },
      "outputs": [],
      "source": [
        "runtime_list1 = []\n",
        "\n",
        "for i in range(5,10):\n",
        "    start = time.time()\n",
        "    testComputeAllTPRs1(i)\n",
        "    end = time.time()\n",
        "    runtime_list1.append(end-start)"
      ]
    },
    {
      "cell_type": "code",
      "execution_count": 7,
      "metadata": {},
      "outputs": [],
      "source": [
        "runtime_list2 = []\n",
        "\n",
        "for i in range(1,10):\n",
        "    start = time.time()\n",
        "    testComputeAllTPRs2(i)\n",
        "    end = time.time()\n",
        "    runtime_list2.append(end-start)"
      ]
    },
    {
      "cell_type": "code",
      "execution_count": 8,
      "metadata": {},
      "outputs": [
        {
          "data": {
            "text/plain": [
              "[<matplotlib.lines.Line2D at 0x2fd7abd7890>]"
            ]
          },
          "execution_count": 8,
          "metadata": {},
          "output_type": "execute_result"
        },
        {
          "data": {
            "image/png": "[encoded data removed]",
            "text/plain": [
              "<Figure size 640x480 with 1 Axes>"
            ]
          },
          "metadata": {},
          "output_type": "display_data"
        }
      ],
      "source": [
        "import matplotlib.pyplot as plt\n",
        "\n",
        "plt.plot(runtime_list1, label='line1')\n",
        "plt.plot(runtime_list2, label='line2')"
      ]
    },
    {
      "cell_type": "code",
      "execution_count": 18,
      "metadata": {
        "id": "PAWM8pogeysb"
      },
      "outputs": [],
      "source": []
    },
    {
      "cell_type": "code",
      "execution_count": null,
      "metadata": {},
      "outputs": [],
      "source": []
    },
    {
      "cell_type": "code",
      "execution_count": null,
      "metadata": {},
      "outputs": [],
      "source": []
    },
    {
      "cell_type": "code",
      "execution_count": null,
      "metadata": {},
      "outputs": [],
      "source": []
    }
  ],
  "metadata": {
    "colab": {
      "provenance": []
    },
    "kernelspec": {
      "display_name": "Python 3",
      "language": "python",
      "name": "python3"
    },
    "language_info": {
      "codemirror_mode": {
        "name": "ipython",
        "version": 3
      },
      "file_extension": ".py",
      "mimetype": "text/x-python",
      "name": "python",
      "nbconvert_exporter": "python",
      "pygments_lexer": "ipython3",
      "version": "3.11.7"
    }
  },
  "nbformat": 4,
  "nbformat_minor": 0
}
